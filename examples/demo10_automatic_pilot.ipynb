{
 "cells": [
  {
   "cell_type": "markdown",
   "id": "b39ec948",
   "metadata": {},
   "source": [
    "### Criação da aeronave"
   ]
  },
  {
   "cell_type": "code",
   "execution_count": 3,
   "id": "433b8f59",
   "metadata": {},
   "outputs": [],
   "source": [
    "import numpy as np\n",
    "from numpy import radians\n",
    "import matplotlib.pyplot as plt\n",
    "tempo_simulacao = 500"
   ]
  },
  {
   "cell_type": "code",
   "execution_count": 4,
   "id": "481d6d60",
   "metadata": {},
   "outputs": [
    {
     "ename": "ModuleNotFoundError",
     "evalue": "No module named 'system'",
     "output_type": "error",
     "traceback": [
      "\u001b[0;31m---------------------------------------------------------------------------\u001b[0m",
      "\u001b[0;31mModuleNotFoundError\u001b[0m                       Traceback (most recent call last)",
      "\u001b[1;32m/home/ydor9e/Documents/MyProjects/PyAAT/examples/demo10_automatic_pilot.ipynb Cell 3\u001b[0m in \u001b[0;36m<cell line: 45>\u001b[0;34m()\u001b[0m\n\u001b[1;32m     <a href='vscode-notebook-cell:/home/ydor9e/Documents/MyProjects/PyAAT/examples/demo10_automatic_pilot.ipynb#W2sZmlsZQ%3D%3D?line=40'>41</a>\u001b[0m MotorDireito\u001b[39m.\u001b[39mattitude \u001b[39m=\u001b[39m np\u001b[39m.\u001b[39marray([\u001b[39m0.\u001b[39m, radians(\u001b[39m0.\u001b[39m), \u001b[39m0.\u001b[39m])\n\u001b[1;32m     <a href='vscode-notebook-cell:/home/ydor9e/Documents/MyProjects/PyAAT/examples/demo10_automatic_pilot.ipynb#W2sZmlsZQ%3D%3D?line=42'>43</a>\u001b[0m minhaPropulsao \u001b[39m=\u001b[39m [MotorEsquerdo, MotorDireito]\n\u001b[0;32m---> <a href='vscode-notebook-cell:/home/ydor9e/Documents/MyProjects/PyAAT/examples/demo10_automatic_pilot.ipynb#W2sZmlsZQ%3D%3D?line=44'>45</a>\u001b[0m \u001b[39mfrom\u001b[39;00m \u001b[39msystem\u001b[39;00m \u001b[39mimport\u001b[39;00m system\n\u001b[1;32m     <a href='vscode-notebook-cell:/home/ydor9e/Documents/MyProjects/PyAAT/examples/demo10_automatic_pilot.ipynb#W2sZmlsZQ%3D%3D?line=45'>46</a>\u001b[0m meuSistema \u001b[39m=\u001b[39m system(atmosphere \u001b[39m=\u001b[39m minhaAtmosfera,\n\u001b[1;32m     <a href='vscode-notebook-cell:/home/ydor9e/Documents/MyProjects/PyAAT/examples/demo10_automatic_pilot.ipynb#W2sZmlsZQ%3D%3D?line=46'>47</a>\u001b[0m                     propulsion \u001b[39m=\u001b[39m minhaPropulsao,\n\u001b[1;32m     <a href='vscode-notebook-cell:/home/ydor9e/Documents/MyProjects/PyAAT/examples/demo10_automatic_pilot.ipynb#W2sZmlsZQ%3D%3D?line=47'>48</a>\u001b[0m                     aircraft \u001b[39m=\u001b[39m minhaAeronave,\n\u001b[1;32m     <a href='vscode-notebook-cell:/home/ydor9e/Documents/MyProjects/PyAAT/examples/demo10_automatic_pilot.ipynb#W2sZmlsZQ%3D%3D?line=48'>49</a>\u001b[0m                     gravity \u001b[39m=\u001b[39m minhaGravidade)\n",
      "\u001b[0;31mModuleNotFoundError\u001b[0m: No module named 'system'"
     ]
    }
   ],
   "source": [
    "# Creates vehicle and set values\n",
    "from pyaat.aircraft import Aircraft\n",
    "minhaAeronave = Aircraft(mass=45e3, Ixx=0.554e6, Iyy=2.53e6,\n",
    "                         Izz =3.01e6, Izx=0.106e6, Cbarw =3.666,\n",
    "                         bw=28.42, Sw=95.0)\n",
    "\n",
    "\n",
    "# Aerodynamic coeficients\n",
    "minhaAeronave.coef0 = [0.0252, 0.0, 0.382, 0.0, 0.0622, 0.0]\n",
    "minhaAeronave.coefALPHA = [0.2010, 0.0, 6.29, 0.0, -3.63, 0.0]\n",
    "minhaAeronave.coefBETA = [0.0, 0.785, 0.0, -0.121, 0.0, 0.174]\n",
    "minhaAeronave.coefP = [0.0, -0.0794, 0.0, -0.522, 0.0, -0.0587]\n",
    "minhaAeronave.coefQ = [0.281, 0.0, 14.6, 0.0, -45.5, 0.0]\n",
    "minhaAeronave.coefR = [0.0, 0.572, 0.0, 0.254, 0.0, -0.277]\n",
    "\n",
    "minhaAeronave.CLmax = 2.4\n",
    "minhaAeronave.qmax = 23052.05 # considering 700km/h at sea level\n",
    "minhaAeronave.Vinf = 200\n",
    "\n",
    "# Environment\n",
    "\n",
    "minhaAeronave.set_control_surface('Profundor', [0.0126, 0.0, 0.3891, 0.0, -1.5980, 0.0],(radians(-30), radians(30)))\n",
    "minhaAeronave.set_control_surface('Aileron', [0.0, 0.0094, 0.0, -0.1784, 0.0, 0.0080],(radians(-20), radians(30)))\n",
    "minhaAeronave.set_control_surface('Leme', [0.0, -0.3030, 0.0, -0.0464, 0.0, -0.1594],(radians(-40), radians(40)))\n",
    "\n",
    "from pyaat.atmosphere import atmosISA\n",
    "minhaAtmosfera = atmosISA()\n",
    "\n",
    "from pyaat.gravity import Earth_NewtonGravity\n",
    "minhaGravidade = Earth_NewtonGravity()\n",
    "\n",
    "from pyaat.propulsion import JetModel\n",
    "MotorEsquerdo = JetModel('Motor esquerdo', Fmaxi = 35e3, nrho = 0.775, rhoi = 0.41271,\n",
    "                         Vi = 200.0, nv = 0)\n",
    "MotorEsquerdo.position = np.array([0, -5, 1.42])\n",
    "MotorEsquerdo.attitude = np.array([0., radians(0.), 0.])\n",
    "\n",
    "MotorDireito = JetModel('Motor direito', Fmaxi = 35e3, nrho = 0.775, rhoi = 0.41271,\n",
    "                         Vi = 200.0, nv = 0)\n",
    "MotorDireito.position = np.array([0, 5.0, 1.42])\n",
    "MotorDireito.attitude = np.array([0., radians(0.), 0.])\n",
    "\n",
    "minhaPropulsao = [MotorEsquerdo, MotorDireito]\n",
    "\n",
    "from pyaat.system import system\n",
    "meuSistema = system(atmosphere = minhaAtmosfera,\n",
    "                    propulsion = minhaPropulsao,\n",
    "                    aircraft = minhaAeronave,\n",
    "                    gravity = minhaGravidade)"
   ]
  },
  {
   "cell_type": "markdown",
   "id": "7d494504",
   "metadata": {},
   "source": [
    "### Cálculo do balanço"
   ]
  },
  {
   "cell_type": "code",
   "execution_count": null,
   "id": "7016b0b9",
   "metadata": {},
   "outputs": [],
   "source": [
    "Xe, Ue = meuSistema.trimmer(condition = 'climb', zo = -10000, u =224.6, zod = -5)"
   ]
  },
  {
   "cell_type": "code",
   "execution_count": null,
   "id": "5385e290",
   "metadata": {},
   "outputs": [],
   "source": [
    "Xe[7] = Xe[7] + np.radians(0.5)"
   ]
  },
  {
   "cell_type": "markdown",
   "id": "02d1d105",
   "metadata": {},
   "source": [
    "### Simulação perturbada"
   ]
  },
  {
   "cell_type": "code",
   "execution_count": null,
   "id": "ee7a22b3",
   "metadata": {
    "scrolled": true
   },
   "outputs": [],
   "source": [
    "#from wind import gust\n",
    "import copy\n",
    "\n",
    "#rajada = gust(MaxSpeed = 5, xo = 500, xf = 1000, yo = -1000, yf = 1000)\n",
    "#rajada2 = gust(MaxSpeed = -5, xo = 2000, xf = 2500, yo = -1000, yf = 1000)\n",
    "meusVentos = []\n",
    "\n",
    "from pyaat.pyaatcontrol import doublet\n",
    "Perturbacao_controle = doublet('Profundor', amplitude = np.radians(3.), t_init =  40, T = 4)\n",
    "openloopcontrols = []"
   ]
  },
  {
   "cell_type": "markdown",
   "id": "b45c09be",
   "metadata": {},
   "source": [
    "### Inclui Sensores e atuadores"
   ]
  },
  {
   "cell_type": "code",
   "execution_count": null,
   "id": "50513066",
   "metadata": {},
   "outputs": [],
   "source": [
    "from pyaat.pyaatcontrol import actuator\n",
    "act2 = actuator(name = 'ss profundor', command = 'Profundor', tau = 0.2)\n",
    "actuatorsAndFilters = [act2]"
   ]
  },
  {
   "cell_type": "code",
   "execution_count": null,
   "id": "8e0aa191",
   "metadata": {},
   "outputs": [],
   "source": [
    "meuSistema = system(atmosphere = minhaAtmosfera,\n",
    "                    propulsion = minhaPropulsao,\n",
    "                    aircraft = minhaAeronave,\n",
    "                    gravity = minhaGravidade,\n",
    "                    wind = meusVentos,\n",
    "                    extraDynamics = actuatorsAndFilters)"
   ]
  },
  {
   "cell_type": "code",
   "execution_count": null,
   "id": "d889da3d",
   "metadata": {},
   "outputs": [],
   "source": [
    "meuSistemaN = system(atmosphere = minhaAtmosfera,\n",
    "                    propulsion = minhaPropulsao,\n",
    "                    aircraft = minhaAeronave,\n",
    "                    gravity = minhaGravidade)"
   ]
  },
  {
   "cell_type": "code",
   "execution_count": null,
   "id": "888dec86",
   "metadata": {},
   "outputs": [],
   "source": [
    "solution, controls = meuSistemaN.simulate(Xe, Ue, T0 = 0.0,\n",
    "                                          TF = tempo_simulacao,\n",
    "                                          state ={'theta':np.radians(-0.5)})\n",
    "tempo = meuSistema.time"
   ]
  },
  {
   "cell_type": "code",
   "execution_count": null,
   "id": "9bc31f8d",
   "metadata": {},
   "outputs": [],
   "source": [
    "meuSistema.statesNames"
   ]
  },
  {
   "cell_type": "code",
   "execution_count": null,
   "id": "867e358a",
   "metadata": {},
   "outputs": [],
   "source": [
    "Xe[7] = Xe[7] + np.radians(0.5)\n",
    "solution1, controls1 = meuSistema.simulate(Xe, Ue, TF = tempo_simulacao,\n",
    "                                           control = openloopcontrols,\n",
    "                                           state ={'theta':np.radians(-0.5)})\n",
    "tempo1  = meuSistema.time"
   ]
  },
  {
   "cell_type": "markdown",
   "id": "9274c7bd",
   "metadata": {},
   "source": [
    "### Inclui controladores"
   ]
  },
  {
   "cell_type": "code",
   "execution_count": null,
   "id": "f28a4e0c",
   "metadata": {},
   "outputs": [],
   "source": [
    "from pyaat.pyaatcontrol import P, loop, PI\n",
    "\n",
    "PI_theta = PI(name = 'PI theta', Kp = 1, zero = -0.1)\n",
    "Ptheta = P(name = 'Ptheta', gain = 2.9)\n",
    "loop_theta = loop(name ='loop cruize', Xmeasure = 'theta', Xreference = 'theta', command = 'Profundor')\n",
    "loop_theta.loopControls = [PI_theta, Ptheta]\n",
    "\n",
    "Pq = P(name = 'Pq', gain = 0.4)\n",
    "loop_q = loop(name ='loop cruize', Xmeasure = 'q', Xreference = 'q', command = 'Profundor')\n",
    "loop_q.loopControls = [Pq]\n",
    "\n",
    "closedloopcontrols = [loop_theta, loop_q]\n",
    "\n",
    "meuSistema2 = system(atmosphere = minhaAtmosfera,\n",
    "                    propulsion = minhaPropulsao,\n",
    "                    aircraft = minhaAeronave,\n",
    "                    gravity = minhaGravidade,\n",
    "                    wind = meusVentos,\n",
    "                    extraDynamics = actuatorsAndFilters,\n",
    "                    control = closedloopcontrols)"
   ]
  },
  {
   "cell_type": "code",
   "execution_count": null,
   "id": "53b14971",
   "metadata": {
    "scrolled": true
   },
   "outputs": [],
   "source": [
    "print(meuSistema2.statesNames)"
   ]
  },
  {
   "cell_type": "code",
   "execution_count": null,
   "id": "bd5fe263",
   "metadata": {
    "scrolled": false
   },
   "outputs": [],
   "source": [
    "Xe[7] = Xe[7] + np.radians(0.5)\n",
    "solution2, controls2 = meuSistema2.simulate(Xe, Ue, TF = tempo_simulacao,\n",
    "                                            control = openloopcontrols,\n",
    "                                           state ={'theta':np.radians(-0.5)})\n",
    "tempo2  = meuSistema2.time"
   ]
  },
  {
   "cell_type": "code",
   "execution_count": null,
   "id": "2765970f",
   "metadata": {},
   "outputs": [],
   "source": [
    "# import matplotlib.pyplot as plt\n",
    "# fig, ax = plt.subplots(nrows=3, ncols=1, sharex=True, figsize=(10,6))\n",
    "# ax[0].plot(tempo2, np.around(meuSistema2.windval[:,0], decimals=4), label = r'SAS Ligado', color = 'k', linestyle = '-')\n",
    "# ax[0].set_ylabel(r'vento em x')\n",
    "# ax[0].grid()\n",
    "\n",
    "# ax[1].plot(tempo2, np.around(meuSistema2.windval[:,1], decimals=4), label = r'SAS Ligado', color = 'k', linestyle = '-')\n",
    "# ax[1].set_ylabel(r'vento em y')\n",
    "# ax[1].grid()\n",
    "\n",
    "# ax[2].plot(tempo2, np.around(meuSistema2.windval[:,2], decimals=4), label = r'SAS Ligado', color = 'k', linestyle = '-')\n",
    "# ax[2].set_ylabel(r'vento em z')\n",
    "# ax[2].set_xlabel(r'tempo $[s]$')\n",
    "# ax[2].grid()\n",
    "# #plt.savefig('vento.pdf', dpi = 400, bbox_inches='tight')\n",
    "\n",
    "\n",
    "# plt.figure(figsize=(8,2))\n",
    "# plt.plot(solution1[:,0], np.around(meuSistema2.windval[:,2], decimals=4), label = r'SAS Ligado', color = 'k', linestyle = '-')\n",
    "# plt.ylabel(r'Vento em $z_o$ [m/s]')\n",
    "# plt.xlabel(r'Posição $x_o$ [m]')\n",
    "# plt.grid()\n",
    "# plt.savefig('vento.pdf', dpi = 400, bbox_inches='tight')"
   ]
  },
  {
   "cell_type": "markdown",
   "id": "9cafd239",
   "metadata": {},
   "source": [
    "### Plot ângulos"
   ]
  },
  {
   "cell_type": "code",
   "execution_count": null,
   "id": "bf055ac1",
   "metadata": {},
   "outputs": [],
   "source": [
    "# import matplotlib.pyplot as plt\n",
    "# fig, ax = plt.subplots(nrows=3, ncols=1, sharex=True, figsize=(10,6))\n",
    "# ax[0].plot(tempo1, np.around(np.degrees(solution1[:,6]), decimals=4), color = 'r', linestyle = '-', label = r'SAS desligado')\n",
    "# ax[0].plot(tempo2, np.around(np.degrees(solution2[:,6]), decimals=4), label = r'SAS Ligado', color = 'b', linestyle = '--')\n",
    "# ax[0].set_ylabel(r'$\\phi~ [^o]$')\n",
    "# ax[0].legend()\n",
    "# ax[0].grid()\n",
    "\n",
    "# ax[1].plot(tempo1, np.around(np.degrees(solution1[:,7]), decimals=4), color = 'r', linestyle = '-', label = r'SAS desligado')\n",
    "# ax[1].plot(tempo2, np.around(np.degrees(solution2[:,7]), decimals=4), label = r'SAS Ligado', color = 'b', linestyle = '--')\n",
    "# #ax[1].plot(tempo2, np.around(np.degrees(solution[:,7]), decimals=4), label = r'Referência', color = 'k', linestyle = ':')\n",
    "# ax[1].set_ylabel(r' $\\theta~ [^o]$')\n",
    "# ax[1].grid()\n",
    "\n",
    "# ax[2].plot(tempo1, np.around(np.degrees(solution1[:,8]), decimals=4), color = 'r', linestyle = '-', label = r'SAS desligado')\n",
    "# ax[2].plot(tempo2, np.around(np.degrees(solution2[:,8]), decimals=4), label = r'SAS Ligado', color = 'b', linestyle = '--')\n",
    "# ax[2].set_ylabel(r' $\\psi~ [^o]$')\n",
    "# ax[2].set_xlabel(r'tempo $[s]$')\n",
    "# ax[2].grid()\n",
    "# #plt.savefig('angulo_cruize.pdf', dpi = 400, bbox_inches='tight')"
   ]
  },
  {
   "cell_type": "code",
   "execution_count": null,
   "id": "ef5b3e58",
   "metadata": {},
   "outputs": [],
   "source": [
    "import matplotlib.pyplot as plt\n",
    "fig, ax = plt.subplots(nrows=2, ncols=1, sharex=True, figsize=(8,3))\n",
    "ax[0].plot(tempo1, np.around(np.degrees(solution1[:,7]), decimals=4), color = 'r', linestyle = '-', label = r'PA desligado')\n",
    "ax[0].plot(tempo2, np.around(np.degrees(solution2[:,7]), decimals=4), label = r'PA Ligado', color = 'b', linestyle = '--')\n",
    "ax[0].set_ylabel(r' $\\theta~ [^o]$')\n",
    "ax[0].legend(loc = 'upper right')\n",
    "ax[0].grid()\n",
    "\n",
    "ax[1].plot(tempo1, np.around(np.degrees(solution1[:,10]), decimals=4), color = 'r', linestyle = '-', label = r'PA desligado')\n",
    "ax[1].plot(tempo2, np.around(np.degrees(solution2[:,10]), decimals=4), label = r'PA Ligado', color = 'b', linestyle = '--')\n",
    "ax[1].set_ylabel(r' $q~ [^o/s]$')\n",
    "ax[1].grid()\n",
    "ax[1].set_xlabel(r'tempo $[s]$')\n",
    "#plt.savefig('Variaveis_angulares_PA.pdf', dpi = 400, bbox_inches='tight')"
   ]
  },
  {
   "cell_type": "markdown",
   "id": "694863b8",
   "metadata": {},
   "source": [
    "### Velocidade ângular"
   ]
  },
  {
   "cell_type": "code",
   "execution_count": null,
   "id": "d7358de3",
   "metadata": {},
   "outputs": [],
   "source": [
    "# import matplotlib.pyplot as plt\n",
    "# fig, ax = plt.subplots(nrows=3, ncols=1, sharex=True, figsize=(10,6))\n",
    "# ax[0].plot(tempo1, np.around(np.degrees(solution1[:,9]), decimals=4), color = 'r', linestyle = '-', label = r'SAS desligado')\n",
    "# ax[0].plot(tempo2, np.around(np.degrees(solution2[:,9]), decimals=4), label = r'SAS Ligado', color = 'b', linestyle = '--')\n",
    "# ax[0].set_ylabel(r'$p~ [^o/s]$')\n",
    "# ax[0].legend(loc = 'upper right')\n",
    "# ax[0].grid()\n",
    "\n",
    "# ax[1].plot(tempo1, np.around(np.degrees(solution1[:,10]), decimals=4), color = 'r', linestyle = '-', label = r'SAS desligado')\n",
    "# ax[1].plot(tempo2, np.around(np.degrees(solution2[:,10]), decimals=4), label = r'SAS Ligado', color = 'b', linestyle = '--')\n",
    "# ax[1].set_ylabel(r' $q~ [^o/s]$')\n",
    "# ax[1].grid()\n",
    "\n",
    "# ax[2].plot(tempo1, np.around(np.degrees(solution1[:,11]), decimals=4), color = 'r', linestyle = '-', label = r'SAS desligado')\n",
    "# ax[2].plot(tempo2, np.around(np.degrees(solution2[:,11]), decimals=4), label = r'SAS Ligado', color = 'b', linestyle = '--')\n",
    "# ax[2].set_ylabel(r' $r~ [^o/s]$')\n",
    "# ax[2].set_xlabel(r'tempo $[s]$')\n",
    "# ax[2].grid()\n",
    "# #plt.savefig('angulo_speed_cruize.pdf', dpi = 400, bbox_inches='tight')"
   ]
  },
  {
   "cell_type": "markdown",
   "id": "3bd5e570",
   "metadata": {},
   "source": [
    "### Velocidades lineares"
   ]
  },
  {
   "cell_type": "code",
   "execution_count": null,
   "id": "02c869a5",
   "metadata": {},
   "outputs": [],
   "source": [
    "# import matplotlib.pyplot as plt\n",
    "# fig, ax = plt.subplots(nrows=3, ncols=1, sharex=True, figsize=(10,6))\n",
    "# ax[0].plot(tempo1, np.around((solution1[:,3]), decimals=4), color = 'r', linestyle = '-', label = r'SAS desligado')\n",
    "# ax[0].plot(tempo2, np.around((solution2[:,3]), decimals=4), label = r'SAS Ligado', color = 'b', linestyle = '--')\n",
    "# ax[0].set_ylabel(r'$u$ [m/s]')\n",
    "# ax[0].legend()\n",
    "# ax[0].grid()\n",
    "\n",
    "# ax[1].plot(tempo1, np.around((solution1[:,4]), decimals=4), color = 'r', linestyle = '-', label = r'SAS desligado')\n",
    "# ax[1].plot(tempo2, np.around((solution2[:,4]), decimals=4), label = r'SAS Ligado', color = 'b', linestyle = '--')\n",
    "# ax[1].set_ylabel(r' $v$ [m/s]')\n",
    "# ax[1].grid()\n",
    "\n",
    "# ax[2].plot(tempo1, np.around((solution1[:,5]), decimals=4), color = 'r', linestyle = '-', label = r'SAS desligado')\n",
    "# ax[2].plot(tempo2, np.around((solution2[:,5]), decimals=4), label = r'SAS Ligado', color = 'b', linestyle = '--')\n",
    "# ax[2].set_ylabel(r' $w$ [m/s]')\n",
    "# ax[2].set_xlabel(r'tempo $[s]$')\n",
    "# ax[2].grid()\n",
    "# #plt.savefig('velocidade_cruize.pdf', dpi = 400, bbox_inches='tight')"
   ]
  },
  {
   "cell_type": "code",
   "execution_count": null,
   "id": "72cd5d3a",
   "metadata": {},
   "outputs": [],
   "source": [
    "# import matplotlib.pyplot as plt\n",
    "# fig, ax = plt.subplots(nrows=2, ncols=1, sharex=True, figsize=(8,4))\n",
    "# ax[0].plot(tempo1, np.around((solution1[:,3]), decimals=4), color = 'r', linestyle = '-', label = r'SAS desligado')\n",
    "# ax[0].plot(tempo2, np.around((solution2[:,3]), decimals=4), label = r'SAS Ligado', color = 'b', linestyle = '--')\n",
    "# ax[0].set_ylabel(r'$u$ [m/s]')\n",
    "# ax[0].set_xlabel(r'tempo $[s]$')\n",
    "# ax[0].legend()\n",
    "# ax[0].grid()\n",
    "\n",
    "# ax[1].plot(tempo1, np.around((solution1[:,5]), decimals=4), color = 'r', linestyle = '-', label = r'SAS desligado')\n",
    "# ax[1].plot(tempo2, np.around((solution2[:,5]), decimals=4), label = r'SAS Ligado', color = 'b', linestyle = '--')\n",
    "# ax[1].set_ylabel(r' $w$ [m/s]')\n",
    "# ax[1].set_xlabel(r'tempo $[s]$')\n",
    "# ax[1].grid()\n",
    "# plt.savefig('velocidades_com_SAS.pdf', dpi = 400, bbox_inches='tight')"
   ]
  },
  {
   "cell_type": "markdown",
   "id": "1ed61318",
   "metadata": {},
   "source": [
    "### Posição"
   ]
  },
  {
   "cell_type": "code",
   "execution_count": null,
   "id": "ac207d3c",
   "metadata": {},
   "outputs": [],
   "source": [
    "fig, ax = plt.subplots(nrows=2, ncols=1, sharex=True, figsize=(10,4))\n",
    "ax[0].plot(np.around(solution1[:,0], decimals=4), np.around(solution1[:,1], decimals=4), color = 'r', linestyle = '-', label = r'SAS desligado')\n",
    "ax[0].plot(np.around(solution2[:,0], decimals=4), np.around(solution2[:,1], decimals=4), label = r'SAS Ligado', color = 'b', linestyle = '--')\n",
    "ax[0].set_ylabel(r'$y_o$ [m]')\n",
    "ax[0].legend()\n",
    "ax[0].grid()\n",
    "\n",
    "ax[1].plot(np.around(solution1[:,0], decimals=4), np.around(-solution1[:,2], decimals=4), color = 'r', linestyle = '-', label = r'SAS desligado')\n",
    "ax[1].plot(np.around(solution2[:,0], decimals=4), np.around(-solution2[:,2], decimals=4), label = r'SAS Ligado', color = 'b', linestyle = '--')\n",
    "ax[1].set_ylabel(r'Altitude [m]')\n",
    "ax[1].set_xlabel(r'$x_o$ [m]')\n",
    "ax[1].grid()\n",
    "#plt.savefig('Posicao_SAS.pdf', dpi = 400, bbox_inches='tight')"
   ]
  },
  {
   "cell_type": "markdown",
   "id": "9d756b0f",
   "metadata": {},
   "source": [
    "### Controles"
   ]
  },
  {
   "cell_type": "code",
   "execution_count": null,
   "id": "4b6fcb4f",
   "metadata": {
    "scrolled": false
   },
   "outputs": [],
   "source": [
    "# fig, ax = plt.subplots(nrows=5, ncols=1, sharex=True, figsize=(10,8))\n",
    "# ax[0].plot(tempo1, np.around(np.degrees(controls1[0,:]), decimals=4), color = 'r', linestyle = '-', label = r'SAS desligado')\n",
    "# ax[0].plot(tempo2, np.around(np.degrees(controls2[0,:]), decimals=4), label = r'SAS Ligado', color = 'b', linestyle = '--')\n",
    "# ax[0].set_ylabel(r'$\\delta_e$ $[^o]$')\n",
    "# ax[0].grid()\n",
    "\n",
    "# ax[1].plot(tempo1, np.around(np.degrees(controls1[1,:]), decimals=4), color = 'r', linestyle = '-', label = r'SAS desligado')\n",
    "# ax[1].plot(tempo2, np.around(np.degrees(controls2[1,:]), decimals=4), label = r'SAS Ligado', color = 'b', linestyle = '--')\n",
    "# ax[1].set_ylabel(r'$\\delta_a$ $[^o]$')\n",
    "# ax[1].grid()\n",
    "\n",
    "# ax[2].plot(tempo1, np.around(np.degrees(controls1[2,:]), decimals=4), color = 'r', linestyle = '-', label = r'SAS desligado')\n",
    "# ax[2].plot(tempo2, np.around(np.degrees(controls2[2,:]), decimals=4), label = r'SAS Ligado', color = 'b', linestyle = '--')\n",
    "# ax[2].set_ylabel(r'$\\delta_r$ $[^o]$')\n",
    "# ax[2].grid()\n",
    "\n",
    "# ax[3].plot(tempo1, np.around((controls1[3,:])*100, decimals=4), color = 'r', linestyle = '-', label = r'SAS desligado')\n",
    "# ax[3].plot(tempo2, np.around((controls2[3,:])*100, decimals=4), label = r'SAS Ligado', color = 'b', linestyle = '--')\n",
    "# ax[0].legend(loc = 'upper right')\n",
    "# ax[3].set_ylabel(r'$\\delta_{pe}$ $[\\%]$')\n",
    "# ax[3].grid()\n",
    "\n",
    "# ax[4].plot(tempo1, np.around((controls1[6,:])*100, decimals=4), color = 'r', linestyle = '-', label = r'SAS desligado')\n",
    "# ax[4].plot(tempo2, np.around((controls2[6,:])*100, decimals=4), label = r'SAS Ligado', color = 'b', linestyle = '--')\n",
    "# ax[4].set_ylabel(r'$\\delta_{pd}$ $[\\%]$')\n",
    "# ax[4].set_xlabel(r'tempo $[s]$')\n",
    "# ax[4].grid()\n",
    "#plt.savefig('controles_cruise.pdf', dpi = 400, bbox_inches='tight')\n",
    "\n",
    "\n",
    "plt.figure(figsize=(8,1.5))\n",
    "plt.plot(tempo1, np.around(np.degrees(solution1[:,12]), decimals=4), color = 'r', linestyle = '-', label = r'PA desligado')\n",
    "plt.plot(tempo2, np.around(np.degrees(solution2[:,12]), decimals=4), label = r'PA Ligado', color = 'b', linestyle = '--')\n",
    "plt.ylabel(r'$SS \\ ~\\ \\delta_e$ $[^o]$')\n",
    "plt.xlabel(r'tempo $[s]$')\n",
    "plt.legend(loc = 'upper right')\n",
    "plt.grid()\n",
    "#plt.savefig('Profundor_PA.pdf', dpi = 400, bbox_inches='tight')"
   ]
  },
  {
   "cell_type": "code",
   "execution_count": null,
   "id": "e32fb1a8",
   "metadata": {
    "scrolled": false
   },
   "outputs": [],
   "source": [
    "meuSistema2.statesNames"
   ]
  },
  {
   "cell_type": "code",
   "execution_count": null,
   "id": "6101fa6c",
   "metadata": {},
   "outputs": [],
   "source": [
    "# plt.figure(figsize=(8,2))\n",
    "# plt.plot(tempo2, np.around(np.degrees(solution2[:,14]), decimals=4), label = r'Avanco', color = 'b', linestyle = '--')\n",
    "# plt.ylabel(r'saida$[^o]$')\n",
    "# plt.xlabel(r'tempo $[s]$')\n",
    "# plt.legend(loc = 'upper right')\n",
    "# plt.grid()\n",
    "\n",
    "# plt.figure(figsize=(8,2))\n",
    "# plt.plot(tempo2, np.around(np.degrees(solution2[:,15]), decimals=4), label = r'integrador', color = 'b', linestyle = '--')\n",
    "# plt.ylabel(r'int. erro$[^o]$')\n",
    "# plt.xlabel(r'tempo $[s]$')\n",
    "# plt.legend(loc = 'upper right')\n",
    "# plt.grid()"
   ]
  },
  {
   "cell_type": "code",
   "execution_count": null,
   "id": "bdf49b07",
   "metadata": {},
   "outputs": [],
   "source": [
    "#import matplotlib.pyplot as plt\n",
    "#fig, ax = plt.subplots(nrows=3, ncols=1, sharex=True, figsize=(10,6))\n",
    "#ax[0].plot(tempo2, np.around(solution2[:,14], decimals=4), label = r'w com filtro', color = 'b', linestyle = '--')\n",
    "#ax[0].plot(tempo2, np.around((solution2[:,13]), decimals=4), label = r'w do barramento', color = 'r', linestyle = '-')\n",
    "#ax[0].plot(tempo2, np.around((solution2[:,5]), decimals=4), label = r'w real', color = 'g', linestyle = '-')\n",
    "#ax[0].set_ylabel(r'$P1$')\n",
    "#ax[0].legend('upper left')\n",
    "#ax[0].legend(loc = 'upper right')\n",
    "#ax[0].grid()\n",
    "\n",
    "#ax[1].plot(tempo2, np.around(np.degrees(solution2[:,15]), decimals=4), color = 'b', linestyle = '--')\n",
    "#ax[1].set_ylabel(r' $P2$')\n",
    "#ax[1].grid()\n",
    "\n",
    "#ax[2].plot(tempo2, np.around(np.degrees(solution2[:,16]), decimals=4), color = 'b', linestyle = '--')\n",
    "#ax[2].set_ylabel(r' $P3$')\n",
    "#ax[2].set_xlabel(r'tempo $[s]$')\n",
    "#ax[2].grid()\n",
    "#plt.savefig('angulo_speed_cruize.pdf', dpi = 400, bbox_inches='tight')"
   ]
  },
  {
   "cell_type": "code",
   "execution_count": null,
   "id": "2133b492",
   "metadata": {},
   "outputs": [],
   "source": [
    "fig = plt.figure(figsize = [8,8])\n",
    "ax = fig.add_subplot(111, projection='3d')\n",
    "ax.plot3D(np.around(solution1[:,0], decimals=4),\n",
    "          np.around(solution1[:,1], decimals=4),\n",
    "          np.around(-solution1[:,2], decimals=4),\n",
    "          color = 'r', linestyle = '-', label = r'PA desligado')\n",
    "\n",
    "ax.plot3D(np.around(solution2[:,0], decimals=4),\n",
    "          np.around(solution2[:,1], decimals=4),\n",
    "          np.around(-solution2[:,2], decimals=4),\n",
    "          label = r'PA Ligado', color = 'b', linestyle = '--')\n",
    "ax.set_xlabel('$x_o$ [m]')\n",
    "ax.set_ylabel('$y_o$ [m]')\n",
    "ax.set_zlabel('$-z_o$ [m]')\n",
    "ax.legend()\n",
    "#plt.savefig('3d_PA_theta.pdf', dpi = 400, bbox_inches='tight')"
   ]
  },
  {
   "cell_type": "code",
   "execution_count": null,
   "id": "551cbe08",
   "metadata": {},
   "outputs": [],
   "source": []
  }
 ],
 "metadata": {
  "kernelspec": {
   "display_name": "Python 3.10.6 64-bit",
   "language": "python",
   "name": "python3"
  },
  "language_info": {
   "codemirror_mode": {
    "name": "ipython",
    "version": 3
   },
   "file_extension": ".py",
   "mimetype": "text/x-python",
   "name": "python",
   "nbconvert_exporter": "python",
   "pygments_lexer": "ipython3",
   "version": "3.10.6"
  },
  "vscode": {
   "interpreter": {
    "hash": "e7370f93d1d0cde622a1f8e1c04877d8463912d04d973331ad4851f04de6915a"
   }
  }
 },
 "nbformat": 4,
 "nbformat_minor": 5
}
