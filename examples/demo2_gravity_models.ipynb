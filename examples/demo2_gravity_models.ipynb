{
 "cells": [
  {
   "cell_type": "markdown",
   "metadata": {},
   "source": [
    "# Exaple 2: learning how to use gravity models"
   ]
  },
  {
   "cell_type": "markdown",
   "metadata": {},
   "source": [
    "PyAAT has several gravity models for Planets available. For the Earth, ir has three models:\n",
    "\n",
    "1- Vertical constant;\n",
    "\n",
    "2- Newton Model;\n",
    "\n",
    "3- High Order model;\n",
    "\n",
    "All three models provide the matrix form for gravity vector as a function of the altitude [meters], latitude [radians] and longitude [radians].\n",
    "\n",
    "The gravity vector takes the form $\\vec{g}$ = [$g_\\theta ~~ g_\\phi ~~g_r$]). Where $g_\\theta$, $g_\\phi$, $g_r$ point in the direction of the longitude, co-latitude and center of the Earth, respectivelly."
   ]
  },
  {
   "cell_type": "markdown",
   "metadata": {},
   "source": [
    "### Import gravity models"
   ]
  },
  {
   "cell_type": "code",
   "execution_count": 2,
   "metadata": {},
   "outputs": [],
   "source": [
    "from pyaat.gravity import Earth_VerticalConstant, Earth_NewtonGravity, Earth_highOrder"
   ]
  },
  {
   "cell_type": "markdown",
   "metadata": {},
   "source": [
    "### Compare the gravity models at sea level, 45 $^o$ of latitude and 0 $^o$ of longitude. "
   ]
  },
  {
   "cell_type": "code",
   "execution_count": 3,
   "metadata": {},
   "outputs": [],
   "source": [
    "from numpy import arange, radians, degrees"
   ]
  },
  {
   "cell_type": "code",
   "execution_count": 4,
   "metadata": {},
   "outputs": [
    {
     "name": "stdout",
     "output_type": "stream",
     "text": [
      "Vertical constant\n",
      "[0.      0.      9.80665]\n",
      "-------------------------\n",
      "Newton gravity (sphere)\n",
      "[0.         0.         9.79870642]\n",
      "-------------------------\n",
      "High order model\n",
      "[0.         0.01590368 9.79074518]\n"
     ]
    }
   ],
   "source": [
    "g1 = Earth_VerticalConstant()\n",
    "g2 = Earth_NewtonGravity()\n",
    "g3 = Earth_highOrder()\n",
    "\n",
    "g1.set_altitude(0.0)\n",
    "g2.set_altitude(0.0)\n",
    "g3.set_altitude(0.0)\n",
    "g3.set_latitude(radians(45))\n",
    "\n",
    "print('Vertical constant')\n",
    "print(g1.get_gravity())\n",
    "print('-------------------------')\n",
    "print('Newton gravity (sphere)')\n",
    "print(g2.get_gravity())\n",
    "print('-------------------------')\n",
    "print('High order model')\n",
    "print(g3.get_gravity())"
   ]
  },
  {
   "cell_type": "markdown",
   "metadata": {},
   "source": [
    "### Example 3.1 from A. Tewary, Atmospheric ans Space Flight Dynamics, Boston: Birkhauser, 2007."
   ]
  },
  {
   "cell_type": "markdown",
   "metadata": {},
   "source": [
    "Example 3.1. Construct a model of the earth’s gravity using the ﬁrst four Jeﬀery’s constants in the series expansion of gravitational potential. Compare the acceleration due to gravity with that of the spherical earth model (R = Re = 6378.14 km) for a trajectory in which the latitude (in degrees) varies, with altitude, h = r − R e (in kilometers), as follows: lat = h − 100, (0 ≤ h ≤ 200 km)"
   ]
  },
  {
   "cell_type": "code",
   "execution_count": 5,
   "metadata": {},
   "outputs": [],
   "source": [
    "hlist = arange(0,200,1)\n",
    "g = []\n",
    "gb = []\n",
    "latlist = []\n",
    "for h in hlist:\n",
    "    lat = radians(h-100)\n",
    "    g3.set_altitude(h*1000)\n",
    "    g2.set_altitude(h*1000)\n",
    "    g3.set_latitude(lat)\n",
    "    g.append(g3.get_gravity()[2])\n",
    "    gb.append(g2.get_gravity()[2])\n",
    "    latlist.append(degrees(lat))"
   ]
  },
  {
   "cell_type": "code",
   "execution_count": 6,
   "metadata": {},
   "outputs": [],
   "source": [
    "import matplotlib.pyplot as plt"
   ]
  },
  {
   "cell_type": "code",
   "execution_count": 7,
   "metadata": {},
   "outputs": [
    {
     "data": {
      "image/png": "[encoded data removed]",
      "text/plain": [
       "<Figure size 432x288 with 1 Axes>"
      ]
     },
     "metadata": {
      "needs_background": "light"
     },
     "output_type": "display_data"
    }
   ],
   "source": [
    "plt.figure()\n",
    "plt.plot(latlist,gb, label ='Newton gravity', color = 'r', linestyle='-')\n",
    "plt.plot(latlist,g, label='High Order model', color='k', linestyle = '--')\n",
    "plt.ylabel('$-g_r$ [$m/s^2$]')\n",
    "plt.xlabel('Latitude $\\delta$ [deg]')\n",
    "plt.title('Gravity as function of latitude and altitude')\n",
    "plt.legend()\n",
    "plt.grid()\n",
    "plt.show()"
   ]
  }
 ],
 "metadata": {
  "kernelspec": {
   "display_name": "Python 3.10.6 64-bit",
   "language": "python",
   "name": "python3"
  },
  "language_info": {
   "codemirror_mode": {
    "name": "ipython",
    "version": 3
   },
   "file_extension": ".py",
   "mimetype": "text/x-python",
   "name": "python",
   "nbconvert_exporter": "python",
   "pygments_lexer": "ipython3",
   "version": "3.10.6"
  },
  "vscode": {
   "interpreter": {
    "hash": "e7370f93d1d0cde622a1f8e1c04877d8463912d04d973331ad4851f04de6915a"
   }
  }
 },
 "nbformat": 4,
 "nbformat_minor": 4
}
