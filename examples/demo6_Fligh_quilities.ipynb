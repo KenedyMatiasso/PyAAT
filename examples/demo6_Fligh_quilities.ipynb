{
 "cells": [
  {
   "cell_type": "markdown",
   "id": "64baca62",
   "metadata": {},
   "source": [
    "# Analysing the open-loop fight qualities"
   ]
  },
  {
   "cell_type": "markdown",
   "id": "e5d2142e",
   "metadata": {},
   "source": [
    "### Imports preliminares"
   ]
  },
  {
   "cell_type": "code",
   "execution_count": 1,
   "id": "93672763",
   "metadata": {},
   "outputs": [],
   "source": [
    "import numpy as np\n",
    "import matplotlib.pyplot as plt\n",
    "from numpy.linalg import eig\n",
    "from numpy import radians"
   ]
  },
  {
   "cell_type": "markdown",
   "id": "f01f1264",
   "metadata": {},
   "source": [
    "### Criação do sistema"
   ]
  },
  {
   "cell_type": "code",
   "execution_count": 2,
   "id": "a0a83d7b",
   "metadata": {},
   "outputs": [
    {
     "ename": "ImportError",
     "evalue": "cannot import name 'NewtonGravity' from 'pyaat.gravity' (/home/ydor9e/.local/lib/python3.10/site-packages/PyAAT-0.0.dev10-py3.10.egg/pyaat/gravity.py)",
     "output_type": "error",
     "traceback": [
      "\u001b[0;31m---------------------------------------------------------------------------\u001b[0m",
      "\u001b[0;31mImportError\u001b[0m                               Traceback (most recent call last)",
      "\u001b[1;32m/home/ydor9e/Documents/MyProjects/PyAAT/examples/2_qualidade_malha_aberta.ipynb Cell 5\u001b[0m in \u001b[0;36m<cell line: 26>\u001b[0;34m()\u001b[0m\n\u001b[1;32m     <a href='vscode-notebook-cell:/home/ydor9e/Documents/MyProjects/PyAAT/examples/2_qualidade_malha_aberta.ipynb#W3sZmlsZQ%3D%3D?line=22'>23</a>\u001b[0m \u001b[39mfrom\u001b[39;00m \u001b[39mpyaat\u001b[39;00m\u001b[39m.\u001b[39;00m\u001b[39matmosphere\u001b[39;00m \u001b[39mimport\u001b[39;00m atmosISA\n\u001b[1;32m     <a href='vscode-notebook-cell:/home/ydor9e/Documents/MyProjects/PyAAT/examples/2_qualidade_malha_aberta.ipynb#W3sZmlsZQ%3D%3D?line=23'>24</a>\u001b[0m minhaAtmosfera \u001b[39m=\u001b[39m atmosISA()\n\u001b[0;32m---> <a href='vscode-notebook-cell:/home/ydor9e/Documents/MyProjects/PyAAT/examples/2_qualidade_malha_aberta.ipynb#W3sZmlsZQ%3D%3D?line=25'>26</a>\u001b[0m \u001b[39mfrom\u001b[39;00m \u001b[39mpyaat\u001b[39;00m\u001b[39m.\u001b[39;00m\u001b[39mgravity\u001b[39;00m \u001b[39mimport\u001b[39;00m NewtonGravity\n\u001b[1;32m     <a href='vscode-notebook-cell:/home/ydor9e/Documents/MyProjects/PyAAT/examples/2_qualidade_malha_aberta.ipynb#W3sZmlsZQ%3D%3D?line=26'>27</a>\u001b[0m minhaGravidade \u001b[39m=\u001b[39m NewtonGravity()\n\u001b[1;32m     <a href='vscode-notebook-cell:/home/ydor9e/Documents/MyProjects/PyAAT/examples/2_qualidade_malha_aberta.ipynb#W3sZmlsZQ%3D%3D?line=28'>29</a>\u001b[0m \u001b[39mfrom\u001b[39;00m \u001b[39mpropulsion\u001b[39;00m \u001b[39mimport\u001b[39;00m JetModel\n",
      "\u001b[0;31mImportError\u001b[0m: cannot import name 'NewtonGravity' from 'pyaat.gravity' (/home/ydor9e/.local/lib/python3.10/site-packages/PyAAT-0.0.dev10-py3.10.egg/pyaat/gravity.py)"
     ]
    }
   ],
   "source": [
    "# Creates vehicle and set values\n",
    "from pyaat.aircraft import Aircraft\n",
    "minhaAeronave = Aircraft(mass=45e3, Ixx=0.554e6, Iyy=2.53e6,\n",
    "                         Izz =3.01e6, Izx=0.106e6, Cbarw =3.666,\n",
    "                         bw=28.42, Sw=95.0)\n",
    "\n",
    "# Aerodynamic coeficients\n",
    "minhaAeronave.coef0 = [0.0252, 0.0, 0.382, 0.0, 0.0622, 0.0]\n",
    "minhaAeronave.coefALPHA = [0.2010, 0.0, 6.29, 0.0, -3.63, 0.0]\n",
    "minhaAeronave.coefBETA = [0.0, 0.785, 0.0, -0.121, 0.0, 0.174]\n",
    "minhaAeronave.coefP = [0.0, -0.0794, 0.0, -0.522, 0.0, -0.0587]\n",
    "minhaAeronave.coefQ = [0.281, 0.0, 14.6, 0.0, -45.5, 0.0]\n",
    "minhaAeronave.coefR = [0.0, 0.572, 0.0, 0.254, 0.0, -0.277]\n",
    "\n",
    "minhaAeronave.CLmax = 2.4\n",
    "minhaAeronave.qmax = 23052.05 # considering 700km/h at sea level\n",
    "minhaAeronave.Vinf = 200\n",
    "\n",
    "minhaAeronave.set_control_surface('Profundor', [0.0126, 0.0, 0.3891, 0.0, -1.5980, 0.0],(radians(-30), radians(30)))\n",
    "minhaAeronave.set_control_surface('Aileron', [0.0, 0.0094, 0.0, -0.1784, 0.0, 0.0080],(radians(-20), radians(30)))\n",
    "minhaAeronave.set_control_surface('Leme', [0.0, -0.3030, 0.0, -0.0464, 0.0, -0.1594],(radians(-40), radians(40)))\n",
    "\n",
    "from pyaat.atmosphere import atmosISA\n",
    "minhaAtmosfera = atmosISA()\n",
    "\n",
    "from pyaat.gravity import NewtonGravity\n",
    "minhaGravidade = NewtonGravity()\n",
    "\n",
    "from propulsion import JetModel\n",
    "MotorEsquerdo = JetModel('Motor esquerdo', Fmaxi = 35e3, nrho = 0.775, rhoi = 0.41271,\n",
    "                         Vi = 200.0, nv = 0)\n",
    "MotorEsquerdo.position = np.array([0, -5, 1.42])\n",
    "MotorEsquerdo.attitude = np.array([0., radians(3.), 0.])\n",
    "\n",
    "MotorDireito = JetModel('Motor direito', Fmaxi = 35e3, nrho = 0.775, rhoi = 0.41271,\n",
    "                         Vi = 200.0, nv = 0)\n",
    "MotorDireito.position = np.array([0, 5.0, 1.42])\n",
    "MotorDireito.attitude = np.array([0., radians(3.), 0.])\n",
    "\n",
    "minhaPropulsao = [MotorEsquerdo, MotorDireito]\n",
    "\n",
    "from system import system\n",
    "meuSistema = system(atmosphere = minhaAtmosfera,\n",
    "                    propulsion = minhaPropulsao,\n",
    "                    aircraft = minhaAeronave,\n",
    "                    gravity = minhaGravidade)"
   ]
  },
  {
   "cell_type": "markdown",
   "id": "37b0be2d",
   "metadata": {},
   "source": [
    "### Balanço"
   ]
  },
  {
   "cell_type": "code",
   "execution_count": null,
   "id": "2e289dc2",
   "metadata": {},
   "outputs": [],
   "source": [
    "Xe, Ue = meuSistema.trimmer(condition = 'cruize', zo = -10000, u = 224.6)"
   ]
  },
  {
   "cell_type": "code",
   "execution_count": null,
   "id": "97fd2e27",
   "metadata": {
    "scrolled": true
   },
   "outputs": [
    {
     "data": {
      "text/plain": [
       "array([ 2.82111577e-02, -7.27175157e-21, -1.10965573e-21,  3.83734507e-01,\n",
       "        0.00000000e+00,  5.23598776e-02,  3.83734507e-01,  0.00000000e+00,\n",
       "        5.23598776e-02])"
      ]
     },
     "execution_count": 4,
     "metadata": {},
     "output_type": "execute_result"
    }
   ],
   "source": [
    "Ue"
   ]
  },
  {
   "cell_type": "code",
   "execution_count": null,
   "id": "fe175c20",
   "metadata": {
    "scrolled": true
   },
   "outputs": [
    {
     "data": {
      "text/plain": [
       "1.6163802741298303"
      ]
     },
     "execution_count": 5,
     "metadata": {},
     "output_type": "execute_result"
    }
   ],
   "source": [
    "np.degrees(Ue[0])"
   ]
  },
  {
   "cell_type": "markdown",
   "id": "9852b028",
   "metadata": {},
   "source": [
    "### Prints"
   ]
  },
  {
   "cell_type": "code",
   "execution_count": null,
   "id": "7b075a27",
   "metadata": {},
   "outputs": [
    {
     "name": "stdout",
     "output_type": "stream",
     "text": [
      "--------------------------------\n",
      "------------ STATES ------------\n",
      "------------- BODY -------------\n",
      "--------------------------------\n",
      "x\n",
      "0.0\n",
      "-------------\n",
      "y\n",
      "0.0\n",
      "-------------\n",
      "z\n",
      "-10000.0\n",
      "-------------\n",
      "u\n",
      "224.6\n",
      "-------------\n",
      "v\n",
      "0.0\n",
      "-------------\n",
      "w\n",
      "1.7086049970878057\n",
      "-------------\n",
      "phi\n",
      "0.0\n",
      "-------------\n",
      "theta\n",
      "0.43585915760295174\n",
      "-------------\n",
      "psi\n",
      "0.0\n",
      "-------------\n",
      "p\n",
      "1.0559776651363619e-18\n",
      "-------------\n",
      "q\n",
      "5.8420017605141234e-08\n",
      "-------------\n",
      "r\n",
      "9.992600339962823e-21\n"
     ]
    }
   ],
   "source": [
    "from pyaat.tools import printInfo\n",
    "printInfo(Xe, Ue, frame ='body')"
   ]
  },
  {
   "cell_type": "code",
   "execution_count": null,
   "id": "d3e36a42",
   "metadata": {},
   "outputs": [],
   "source": [
    "np.set_printoptions(suppress=True)"
   ]
  },
  {
   "cell_type": "markdown",
   "id": "02bb27b8",
   "metadata": {},
   "source": [
    "### Linearização"
   ]
  },
  {
   "cell_type": "code",
   "execution_count": null,
   "id": "8c0097ef",
   "metadata": {},
   "outputs": [],
   "source": [
    "A, B = meuSistema.Linearize(Xe, Ue)"
   ]
  },
  {
   "cell_type": "code",
   "execution_count": null,
   "id": "f4fee120",
   "metadata": {},
   "outputs": [],
   "source": [
    "#A = np.around(A, decimals =5)\n",
    "#B = np.around(B, decimals =5)\n",
    "from numpy import identity, array\n",
    "Aprint = np.around(A, decimals = 4)\n",
    "Bprint = np.around(B, decimals = 4)"
   ]
  },
  {
   "cell_type": "code",
   "execution_count": null,
   "id": "300620fb",
   "metadata": {},
   "outputs": [],
   "source": [
    "from flightmechanics import modesMatrix"
   ]
  },
  {
   "cell_type": "code",
   "execution_count": null,
   "id": "2a846ac2",
   "metadata": {},
   "outputs": [],
   "source": [
    "def bmatrix(a):\n",
    "    text = r'$\\left[\\begin{array}{*{'\n",
    "    text += str(len(a[0]))\n",
    "    text += r'}c}'\n",
    "    text += '\\n'\n",
    "    for x in range(len(a)):\n",
    "        for y in range(len(a[x])):\n",
    "            text += str(a[x][y])\n",
    "            text += r' & '\n",
    "        text = text[:-2]\n",
    "        text += r'\\\\'\n",
    "        text += '\\n'\n",
    "    text += r'\\end{array}\\right]$'\n",
    "\n",
    "    print(text)"
   ]
  },
  {
   "cell_type": "code",
   "execution_count": null,
   "id": "262568b7",
   "metadata": {
    "scrolled": true
   },
   "outputs": [],
   "source": [
    "#Aprint"
   ]
  },
  {
   "cell_type": "code",
   "execution_count": null,
   "id": "c9136515",
   "metadata": {
    "scrolled": true
   },
   "outputs": [],
   "source": [
    "#bmatrix(Bprint)"
   ]
  },
  {
   "cell_type": "code",
   "execution_count": null,
   "id": "7054242c",
   "metadata": {},
   "outputs": [],
   "source": [
    "from numpy.linalg import eig"
   ]
  },
  {
   "cell_type": "code",
   "execution_count": null,
   "id": "5bb02569",
   "metadata": {},
   "outputs": [],
   "source": [
    "from flightmechanics import longMatrix, shortPeriodMatrix, phugoidMatrix\n",
    "Al, Bl = longMatrix(A,B)\n",
    "Asp, Bsp = shortPeriodMatrix(A, B)\n",
    "Aph, Bph = phugoidMatrix(A, B)\n",
    "\n",
    "from flightmechanics import lateroMatrix, rollMatrix, dutchRollMatrix, spiralMatrix\n",
    "Ald, Bld = lateroMatrix(A,B)\n",
    "Arp, Brp = rollMatrix(A, B)\n",
    "Adr, Bdr = dutchRollMatrix(A, B)\n",
    "As, Bs = spiralMatrix(A, B)"
   ]
  },
  {
   "cell_type": "code",
   "execution_count": null,
   "id": "ef846f27",
   "metadata": {},
   "outputs": [],
   "source": [
    "from flightmechanics import longMatrix\n",
    "Al, Bl = longMatrix(A,B)"
   ]
  },
  {
   "cell_type": "code",
   "execution_count": null,
   "id": "01fc6939",
   "metadata": {},
   "outputs": [],
   "source": [
    "w, v= eig(A)"
   ]
  },
  {
   "cell_type": "markdown",
   "id": "a1f891b5",
   "metadata": {},
   "source": [
    "### Frequências naturais do sistema"
   ]
  },
  {
   "cell_type": "code",
   "execution_count": null,
   "id": "da422336",
   "metadata": {},
   "outputs": [],
   "source": [
    "from numpy import sqrt\n",
    "def fingOmegaZeta(real, img):\n",
    "    omega = np.sqrt((-real)**2 + img**2)\n",
    "    zeta = -real/(np.sqrt((-real)**2+img**2))\n",
    "    \n",
    "    if (img==0):\n",
    "        omega = 1/real\n",
    "        zeta = \"Non-oscilatory\"\n",
    "        \n",
    "    return omega, zeta"
   ]
  },
  {
   "cell_type": "code",
   "execution_count": null,
   "id": "1aa4c7ef",
   "metadata": {
    "scrolled": true
   },
   "outputs": [],
   "source": [
    "w, v = eig(A)\n",
    "wl, vl = eig(Al)\n",
    "wph, vph = eig(Aph)\n",
    "wsp, vsp = eig(Asp)"
   ]
  },
  {
   "cell_type": "code",
   "execution_count": null,
   "id": "b6b108b3",
   "metadata": {},
   "outputs": [
    {
     "data": {
      "text/plain": [
       "array([-0.91113605+2.23689527j, -0.91113605-2.23689527j,\n",
       "       -0.00177347+0.06573911j, -0.00177347-0.06573911j,\n",
       "       -0.00103007+0.j        ])"
      ]
     },
     "execution_count": 20,
     "metadata": {},
     "output_type": "execute_result"
    }
   ],
   "source": [
    "wl"
   ]
  },
  {
   "cell_type": "code",
   "execution_count": null,
   "id": "f4645266",
   "metadata": {},
   "outputs": [],
   "source": [
    "w, z = fingOmegaZeta(-0.00177347, 0.06573911)"
   ]
  },
  {
   "cell_type": "code",
   "execution_count": null,
   "id": "d5416949",
   "metadata": {
    "scrolled": false
   },
   "outputs": [
    {
     "data": {
      "image/png": "[encoded data removed]",
      "text/plain": [
       "<Figure size 576x288 with 1 Axes>"
      ]
     },
     "metadata": {
      "needs_background": "light"
     },
     "output_type": "display_data"
    }
   ],
   "source": [
    "from flightmechanics import phugoidQuality\n",
    "phugoidQuality(w, z, aircraft = 'III', phase = 'B')\n",
    "#plt.savefig('phugoid.png', dpi = 400, bbox_inches='tight')"
   ]
  },
  {
   "cell_type": "code",
   "execution_count": null,
   "id": "b17336b1",
   "metadata": {},
   "outputs": [],
   "source": [
    "w, z = fingOmegaZeta(-0.91113605, 2.23689527)"
   ]
  },
  {
   "cell_type": "code",
   "execution_count": null,
   "id": "19a2b64d",
   "metadata": {
    "scrolled": false
   },
   "outputs": [
    {
     "data": {
      "image/png": "[encoded data removed]",
      "text/plain": [
       "<Figure size 576x288 with 1 Axes>"
      ]
     },
     "metadata": {
      "needs_background": "light"
     },
     "output_type": "display_data"
    }
   ],
   "source": [
    "from flightmechanics import  shortPeriodQuality\n",
    "shortPeriodQuality(w, z, aircraft = 'III', phase = 'B')\n",
    "plt.savefig('short_period.png', dpi = 400, bbox_inches='tight')"
   ]
  },
  {
   "cell_type": "code",
   "execution_count": null,
   "id": "a108fe1e",
   "metadata": {},
   "outputs": [],
   "source": [
    "wld, vld = eig(Ald)\n",
    "wrp, vrp = eig(Arp)\n",
    "wdr, vdr = eig(Adr)\n",
    "ws, vs = eig(As)"
   ]
  },
  {
   "cell_type": "code",
   "execution_count": null,
   "id": "76c1c96f",
   "metadata": {},
   "outputs": [
    {
     "data": {
      "text/plain": [
       "2.415340421257007"
      ]
     },
     "execution_count": 26,
     "metadata": {},
     "output_type": "execute_result"
    }
   ],
   "source": [
    "w"
   ]
  },
  {
   "cell_type": "code",
   "execution_count": null,
   "id": "8e6bdc84",
   "metadata": {},
   "outputs": [
    {
     "data": {
      "text/plain": [
       "array([0.00534567])"
      ]
     },
     "execution_count": 27,
     "metadata": {},
     "output_type": "execute_result"
    }
   ],
   "source": [
    "ws"
   ]
  },
  {
   "cell_type": "code",
   "execution_count": null,
   "id": "0dc56a03",
   "metadata": {},
   "outputs": [],
   "source": [
    "T, z = fingOmegaZeta(-3.8090, 0)"
   ]
  },
  {
   "cell_type": "code",
   "execution_count": null,
   "id": "5f84bad6",
   "metadata": {
    "scrolled": true
   },
   "outputs": [
    {
     "data": {
      "image/png": "[encoded data removed]",
      "text/plain": [
       "<Figure size 576x216 with 1 Axes>"
      ]
     },
     "metadata": {
      "needs_background": "light"
     },
     "output_type": "display_data"
    }
   ],
   "source": [
    "from flightmechanics import rollQuality\n",
    "rollQuality(T, aircraft = 'III', phase = 'B')\n",
    "plt.savefig('roll_quality.png', dpi = 400, bbox_inches='tight')"
   ]
  },
  {
   "cell_type": "code",
   "execution_count": null,
   "id": "7d84c557",
   "metadata": {},
   "outputs": [],
   "source": [
    "w, z = fingOmegaZeta(-0.1218, 1.3339)"
   ]
  },
  {
   "cell_type": "code",
   "execution_count": null,
   "id": "dd47ab0d",
   "metadata": {},
   "outputs": [
    {
     "data": {
      "image/png": "[encoded data removed]",
      "text/plain": [
       "<Figure size 576x288 with 1 Axes>"
      ]
     },
     "metadata": {
      "needs_background": "light"
     },
     "output_type": "display_data"
    }
   ],
   "source": [
    "from flightmechanics import dutchRollQuality\n",
    "dutchRollQuality(w, z, aircraft = 'III', phase = 'B')\n",
    "plt.savefig('dutchRoll_quality.png', dpi = 400, bbox_inches='tight')"
   ]
  },
  {
   "cell_type": "code",
   "execution_count": null,
   "id": "8f804dd5",
   "metadata": {},
   "outputs": [],
   "source": [
    "T, z = fingOmegaZeta(0.0051, 0)"
   ]
  },
  {
   "cell_type": "code",
   "execution_count": null,
   "id": "bd98835b",
   "metadata": {
    "scrolled": true
   },
   "outputs": [
    {
     "data": {
      "image/png": "[encoded data removed]",
      "text/plain": [
       "<Figure size 576x216 with 1 Axes>"
      ]
     },
     "metadata": {
      "needs_background": "light"
     },
     "output_type": "display_data"
    }
   ],
   "source": [
    "from flightmechanics import spiralQuality\n",
    "spiralQuality(T, aircraft = 'III', phase = 'B')\n",
    "plt.savefig('spiral_Quality.png', dpi = 400, bbox_inches='tight')"
   ]
  }
 ],
 "metadata": {
  "kernelspec": {
   "display_name": "Python 3.10.6 64-bit",
   "language": "python",
   "name": "python3"
  },
  "language_info": {
   "codemirror_mode": {
    "name": "ipython",
    "version": 3
   },
   "file_extension": ".py",
   "mimetype": "text/x-python",
   "name": "python",
   "nbconvert_exporter": "python",
   "pygments_lexer": "ipython3",
   "version": "3.10.6"
  },
  "vscode": {
   "interpreter": {
    "hash": "e7370f93d1d0cde622a1f8e1c04877d8463912d04d973331ad4851f04de6915a"
   }
  }
 },
 "nbformat": 4,
 "nbformat_minor": 5
}
