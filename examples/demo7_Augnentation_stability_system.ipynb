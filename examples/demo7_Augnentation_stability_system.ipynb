{
 "cells": [
  {
   "cell_type": "markdown",
   "id": "b39ec948",
   "metadata": {},
   "source": [
    "# Designing an Stability Augmentation System"
   ]
  },
  {
   "cell_type": "markdown",
   "id": "0013ba79",
   "metadata": {},
   "source": [
    "### Criação da aeronave"
   ]
  },
  {
   "cell_type": "code",
   "execution_count": 1,
   "id": "433b8f59",
   "metadata": {},
   "outputs": [],
   "source": [
    "import numpy as np\n",
    "from numpy import radians\n",
    "import matplotlib.pyplot as plt"
   ]
  },
  {
   "cell_type": "code",
   "execution_count": 2,
   "id": "481d6d60",
   "metadata": {},
   "outputs": [],
   "source": [
    "# Creates vehicle and set values\n",
    "from pyaat.aircraft import Aircraft\n",
    "minhaAeronave = Aircraft(mass=45e3, Ixx=0.554e6, Iyy=2.53e6,\n",
    "                         Izz =3.01e6, Izx=0.106e6, Cbarw =3.666,\n",
    "                         bw=28.42, Sw=95.0)\n",
    "\n",
    "\n",
    "# Aerodynamic coeficients\n",
    "minhaAeronave.coef0 = [0.0252, 0.0, 0.382, 0.0, 0.0622, 0.0]\n",
    "minhaAeronave.coefALPHA = [0.2010, 0.0, 6.29, 0.0, -3.63, 0.0]\n",
    "minhaAeronave.coefBETA = [0.0, 0.785, 0.0, -0.121, 0.0, 0.174]\n",
    "minhaAeronave.coefP = [0.0, -0.0794, 0.0, -0.522, 0.0, -0.0587]\n",
    "minhaAeronave.coefQ = [0.281, 0.0, 14.6, 0.0, -45.5, 0.0]\n",
    "minhaAeronave.coefR = [0.0, 0.572, 0.0, 0.254, 0.0, -0.277]\n",
    "\n",
    "minhaAeronave.CLmax = 2.4\n",
    "minhaAeronave.qmax = 23052.05 # considering 700km/h at sea level\n",
    "minhaAeronave.Vinf = 200\n",
    "\n",
    "# Environment\n",
    "\n",
    "minhaAeronave.set_control_surface('Profundor', [0.0126, 0.0, 0.3891, 0.0, -1.5980, 0.0],(radians(-30), radians(30)))\n",
    "minhaAeronave.set_control_surface('Aileron', [0.0, 0.0094, 0.0, -0.1784, 0.0, 0.0080],(radians(-20), radians(30)))\n",
    "minhaAeronave.set_control_surface('Leme', [0.0, -0.3030, 0.0, -0.0464, 0.0, -0.1594],(radians(-40), radians(40)))"
   ]
  },
  {
   "cell_type": "markdown",
   "id": "a9017586",
   "metadata": {},
   "source": [
    "### Criação da atmosfera"
   ]
  },
  {
   "cell_type": "code",
   "execution_count": 3,
   "id": "247a0e68",
   "metadata": {},
   "outputs": [],
   "source": [
    "from pyaat.atmosphere import atmosISA\n",
    "minhaAtmosfera = atmosISA()"
   ]
  },
  {
   "cell_type": "markdown",
   "id": "3c5b3c07",
   "metadata": {},
   "source": [
    "### Criação da gravidade"
   ]
  },
  {
   "cell_type": "code",
   "execution_count": 4,
   "id": "6976ce66",
   "metadata": {},
   "outputs": [],
   "source": [
    "from pyaat.gravity import Earth_NewtonGravity\n",
    "minhaGravidade = Earth_NewtonGravity()"
   ]
  },
  {
   "cell_type": "markdown",
   "id": "ee27b22c",
   "metadata": {},
   "source": [
    "### Criação do modelo propulsivo"
   ]
  },
  {
   "cell_type": "code",
   "execution_count": 5,
   "id": "704a501c",
   "metadata": {},
   "outputs": [],
   "source": [
    "from pyaat.propulsion import JetModel\n",
    "MotorEsquerdo = JetModel('Motor esquerdo', Fmaxi = 35e3, nrho = 0.775, rhoi = 0.41271,\n",
    "                         Vi = 200.0, nv = 0)\n",
    "MotorEsquerdo.set_position(np.array([0, -5, 1.42]))\n",
    "MotorEsquerdo.set_attitude(np.array([0., radians(0.), 0.]))\n",
    "\n",
    "MotorDireito = JetModel('Motor direito', Fmaxi = 35e3, nrho = 0.775, rhoi = 0.41271,\n",
    "                         Vi = 200.0, nv = 0)\n",
    "MotorDireito.set_position(np.array([0, 5.0, 1.42]))\n",
    "MotorDireito.set_attitude(np.array([0., radians(0.), 0.]))\n",
    "\n",
    "minhaPropulsao = [MotorEsquerdo, MotorDireito]"
   ]
  },
  {
   "cell_type": "markdown",
   "id": "52d2c222",
   "metadata": {},
   "source": [
    "### Criação do sistema"
   ]
  },
  {
   "cell_type": "code",
   "execution_count": 6,
   "id": "72a8b708",
   "metadata": {},
   "outputs": [],
   "source": [
    "from pyaat.system import system\n",
    "meuSistema = system(atmosphere = minhaAtmosfera,\n",
    "                    propulsion = minhaPropulsao,\n",
    "                    aircraft = minhaAeronave,\n",
    "                    gravity = minhaGravidade)"
   ]
  },
  {
   "cell_type": "markdown",
   "id": "7d494504",
   "metadata": {},
   "source": [
    "### Cálculo do balanço"
   ]
  },
  {
   "cell_type": "code",
   "execution_count": 7,
   "id": "7016b0b9",
   "metadata": {},
   "outputs": [],
   "source": [
    "varFixas = {'zo':-10000.0, 'u': 224.6, 'phi':0.0, 'Motor esquerdo phip':0.0, 'Motor direito phip': 0.0,  'Motor esquerdo thetap':np.radians(3.0), 'Motor direito thetap': np.radians(3.0), 'v': 0.0,}\n",
    "\n",
    "varDesejadas = {'zod':0.0, 'ud':0.0, 'vd':0.0, 'wd':0.0, 'phid':0.0, 'psid': 0.0, 'thetad':0.0, 'pd':0.0 , 'qd':0.0, 'rd':0.0}\n",
    "\n",
    "varLivres = {'w':1.0, 'theta':1.0, 'p': 1.0, 'q':1.0, 'r':1.0, 'Motor direito thrust': 0.5, 'Motor esquerdo thrust': 0.5, 'Aileron': np.radians(1.0), 'Profundor':0.0, 'Leme': np.radians(0.5)}\n",
    "\n",
    "Xe, Ue = meuSistema.trimmer(condition = 'general', fixed = varFixas, desired = varDesejadas, free = varLivres)"
   ]
  },
  {
   "cell_type": "markdown",
   "id": "02d1d105",
   "metadata": {},
   "source": [
    "### Simulação perturbada"
   ]
  },
  {
   "cell_type": "code",
   "execution_count": 8,
   "id": "ee7a22b3",
   "metadata": {
    "scrolled": true
   },
   "outputs": [],
   "source": [
    "from pyaat.wind import windFAR25\n",
    "rajada = windFAR25(MaxSpeed = 5, x_start= 500, x_end= 1000, y_start = -1000, y_end = 1000)\n",
    "meusVentos = []"
   ]
  },
  {
   "cell_type": "code",
   "execution_count": 9,
   "id": "93e05cb4",
   "metadata": {},
   "outputs": [],
   "source": [
    "from pyaat.pyaatcontrol import doublet\n",
    "\n",
    "Perturbacao_controle = doublet('Profundor', amplitude = np.radians(3.), t_init =  40, T = 4)\n",
    "openloopcontrols = [Perturbacao_controle]"
   ]
  },
  {
   "cell_type": "markdown",
   "id": "b45c09be",
   "metadata": {},
   "source": [
    "### Inclui Sensores e atuadores"
   ]
  },
  {
   "cell_type": "code",
   "execution_count": 10,
   "id": "50513066",
   "metadata": {},
   "outputs": [],
   "source": [
    "from pyaat.pyaatcontrol import actuator\n",
    "act2 = actuator(name = 'ss profundor', command = 'Profundor', tau = 0.2)\n",
    "\n",
    "from pyaat.pyaatcontrol import sensor\n",
    "sens3 = sensor(name = 'wf', state = 'w', tau = 1/10)\n",
    "\n",
    "actuatorsAndFilters = [act2, sens3]"
   ]
  },
  {
   "cell_type": "code",
   "execution_count": 11,
   "id": "8e0aa191",
   "metadata": {},
   "outputs": [],
   "source": [
    "meuSistema = system(atmosphere = minhaAtmosfera,\n",
    "                    propulsion = minhaPropulsao,\n",
    "                    aircraft = minhaAeronave,\n",
    "                    gravity = minhaGravidade,\n",
    "                    wind = meusVentos,\n",
    "                    extraDynamics = actuatorsAndFilters)"
   ]
  },
  {
   "cell_type": "code",
   "execution_count": 12,
   "id": "b7f80786",
   "metadata": {},
   "outputs": [
    {
     "name": "stdout",
     "output_type": "stream",
     "text": [
      "['Profundor', 'Aileron', 'Leme', 'Motor esquerdo thrust', 'Motor esquerdo psip', 'Motor esquerdo thetap', 'Motor direito thrust', 'Motor direito psip', 'Motor direito thetap']\n"
     ]
    }
   ],
   "source": [
    "print(meuSistema.controlsNames)"
   ]
  },
  {
   "cell_type": "code",
   "execution_count": 13,
   "id": "04935312",
   "metadata": {
    "scrolled": true
   },
   "outputs": [],
   "source": [
    "A, B = meuSistema.Linearize(Xe, Ue)"
   ]
  },
  {
   "cell_type": "code",
   "execution_count": 14,
   "id": "f92093a8",
   "metadata": {},
   "outputs": [],
   "source": [
    "Am = A\n",
    "Bm = B[:,:]\n",
    "Cm = np.zeros((2, len(Am)))\n",
    "Dm = np.zeros((len(Cm), np.shape(Bm)[1]))\n",
    "\n",
    "import control as control\n",
    "sys = control.ss(Am, Bm, Cm, Dm)"
   ]
  },
  {
   "cell_type": "code",
   "execution_count": 15,
   "id": "867e358a",
   "metadata": {},
   "outputs": [],
   "source": [
    "solution1, controls1 = meuSistema.simulate(Xe, Ue, T0 = 0.0, TF = 60, dt = 0.01,\n",
    "                                           perturbation=True,\n",
    "                                           control = openloopcontrols)\n",
    "tempo1  = meuSistema.time"
   ]
  },
  {
   "cell_type": "markdown",
   "id": "9274c7bd",
   "metadata": {},
   "source": [
    "### Inclui controladores"
   ]
  },
  {
   "cell_type": "code",
   "execution_count": 16,
   "id": "f28a4e0c",
   "metadata": {},
   "outputs": [],
   "source": [
    "from pyaat.pyaatcontrol import P, loop, LowPassFilter\n",
    "\n",
    "P1 = P(name = 'P1', gain = 0.001)\n",
    "loop1 = loop(name = 'L1', Xmeasure = 'wf', Xreference = 'w', command = 'Profundor')\n",
    "loop1.loopControls = [P1]\n",
    "P2 = P(name = 'P2', gain = 1.4)\n",
    "loop2 = loop(name = 'L2', Xmeasure= 'q', Xreference = 'q',  command ='Profundor')\n",
    "loop2.loopControls = [P2]\n",
    "closedloopcontrols = [loop1, loop2]"
   ]
  },
  {
   "cell_type": "code",
   "execution_count": 17,
   "id": "56d27dc6",
   "metadata": {},
   "outputs": [],
   "source": [
    "meuSistema2 = system(atmosphere = minhaAtmosfera,\n",
    "                    propulsion = minhaPropulsao,\n",
    "                    aircraft = minhaAeronave,\n",
    "                    gravity = minhaGravidade,\n",
    "                    wind = meusVentos,\n",
    "                    extraDynamics = actuatorsAndFilters,\n",
    "                    control = closedloopcontrols)"
   ]
  },
  {
   "cell_type": "code",
   "execution_count": 18,
   "id": "1e399521",
   "metadata": {
    "scrolled": false
   },
   "outputs": [],
   "source": [
    "solution2, controls2 = meuSistema2.simulate(Xe, Ue, TF = 60, control = openloopcontrols)\n",
    "tempo2  = meuSistema2.time"
   ]
  },
  {
   "cell_type": "code",
   "execution_count": 19,
   "id": "ca2e3c14",
   "metadata": {},
   "outputs": [],
   "source": [
    "from numpy import sqrt\n",
    "def fingOmegaZeta(real, img):\n",
    "    omega = np.sqrt((-real)**2 + img**2)\n",
    "    zeta = -real/(np.sqrt((-real)**2+img**2))\n",
    "    \n",
    "    if (img==0):\n",
    "        omega = 1/real\n",
    "        zeta = \"Non-oscilatory\"\n",
    "        \n",
    "    return omega, zeta"
   ]
  },
  {
   "cell_type": "code",
   "execution_count": 20,
   "id": "02b76ce8",
   "metadata": {},
   "outputs": [],
   "source": [
    "Xea = np.append(Xe,[Ue[0], Xe[5]])\n",
    "Aa, Ba = meuSistema2.FullLinearize(Xea, Ue)"
   ]
  },
  {
   "cell_type": "code",
   "execution_count": 21,
   "id": "e2c96177",
   "metadata": {},
   "outputs": [],
   "source": [
    "Xea = np.append(Xe,[Ue[0], Xe[5]])\n",
    "Aa, Ba = meuSistema2.FullLinearize(Xea, Ue)\n",
    "\n",
    "Am = Aa\n",
    "Bm = Ba[:,:]\n",
    "Cm = np.zeros((2, len(Am)))\n",
    "Dm = np.zeros((len(Cm), np.shape(Bm)[1]))\n",
    "\n",
    "import control as control\n",
    "sys = control.ss(Am, Bm, Cm, Dm)\n",
    "\n",
    "Aprint = np.around(Am, decimals = 4)\n",
    "Bprint = np.around(Bm, decimals = 4)"
   ]
  },
  {
   "cell_type": "code",
   "execution_count": 22,
   "id": "24a2bb8e",
   "metadata": {},
   "outputs": [
    {
     "data": {
      "text/plain": [
       "array([ 0.00000000e+00+0.j        ,  0.00000000e+00+0.j        ,\n",
       "        0.00000000e+00+0.j        , -9.96333813e+00+0.j        ,\n",
       "       -2.49133929e+00+3.92137586j, -2.49133929e+00-3.92137586j,\n",
       "       -1.87571863e+00+0.j        , -3.80903462e+00+0.j        ,\n",
       "       -1.21847607e-01+1.33389932j, -1.21847607e-01-1.33389932j,\n",
       "       -2.04146162e-03+0.05856661j, -2.04146162e-03-0.05856661j,\n",
       "       -1.03085529e-03+0.j        ,  5.13461462e-03+0.j        ])"
      ]
     },
     "execution_count": 22,
     "metadata": {},
     "output_type": "execute_result"
    }
   ],
   "source": [
    "from pyaat.flightmechanics import longMatrix, shortPeriodMatrix, phugoidMatrix\n",
    "from numpy.linalg import eig\n",
    "Al, Bl = longMatrix(Aa, Ba)\n",
    "Asp, Bsp = shortPeriodMatrix(Aa, Ba)\n",
    "Aph, Bph = phugoidMatrix(Aa, Ba)\n",
    "wt, vt = eig(Aa)\n",
    "wt"
   ]
  },
  {
   "cell_type": "code",
   "execution_count": 23,
   "id": "793e20e5",
   "metadata": {},
   "outputs": [],
   "source": [
    "from pyaat.flightmechanics import phugoidQuality, shortPeriodQuality"
   ]
  },
  {
   "cell_type": "code",
   "execution_count": 24,
   "id": "3d01fcdf",
   "metadata": {},
   "outputs": [],
   "source": [
    "w, z = fingOmegaZeta(-1.88331925e-03, 0.06223688)"
   ]
  },
  {
   "cell_type": "code",
   "execution_count": 25,
   "id": "76f6750c",
   "metadata": {},
   "outputs": [
    {
     "data": {
      "image/png": "[encoded data removed]",
      "text/plain": [
       "<Figure size 576x288 with 1 Axes>"
      ]
     },
     "metadata": {
      "needs_background": "light"
     },
     "output_type": "display_data"
    }
   ],
   "source": [
    "phugoidQuality(w, z, aircraft = 'III', phase = 'B')\n",
    "#plt.savefig('phugoid_CL.pdf', dpi = 400, bbox_inches='tight')"
   ]
  },
  {
   "cell_type": "code",
   "execution_count": 26,
   "id": "499f4fdc",
   "metadata": {},
   "outputs": [],
   "source": [
    "w, z = fingOmegaZeta(-1.72445545, 2.74443156)"
   ]
  },
  {
   "cell_type": "code",
   "execution_count": 27,
   "id": "3c98ab60",
   "metadata": {},
   "outputs": [
    {
     "data": {
      "image/png": "[encoded data removed]",
      "text/plain": [
       "<Figure size 576x288 with 1 Axes>"
      ]
     },
     "metadata": {
      "needs_background": "light"
     },
     "output_type": "display_data"
    }
   ],
   "source": [
    "shortPeriodQuality(w, z, aircraft = 'III', phase = 'B')\n",
    "#plt.savefig('shortPeriod_CL.pdf', dpi = 400, bbox_inches='tight')"
   ]
  },
  {
   "cell_type": "code",
   "execution_count": 28,
   "id": "c4ec7871",
   "metadata": {},
   "outputs": [
    {
     "data": {
      "image/png": "[encoded data removed]",
      "text/plain": [
       "<Figure size 720x216 with 4 Axes>"
      ]
     },
     "metadata": {
      "needs_background": "light"
     },
     "output_type": "display_data"
    }
   ],
   "source": [
    "import matplotlib.pyplot as plt\n",
    "fig, ax = plt.subplots(nrows=2, ncols=2, sharex=True, figsize=(10,3))\n",
    "ax[0,0].plot(tempo1, np.around(np.degrees(solution1[:,7]), decimals=4), color = 'r', linestyle = '-', label = r'SAS desligado')\n",
    "ax[0,0].plot(tempo2, np.around(np.degrees(solution2[:,7]), decimals=4), label = r'SAS Ligado', color = 'b', linestyle = '--')\n",
    "ax[0,0].set_ylabel(r' $\\theta~ [^o]$')\n",
    "ax[0,0].grid()\n",
    "\n",
    "ax[1,0].plot(tempo1, np.around((solution1[:,3]), decimals=4), color = 'r', linestyle = '-', label = r'SAS desligado')\n",
    "ax[1,0].plot(tempo2, np.around((solution2[:,3]), decimals=4), label = r'SAS Ligado', color = 'b', linestyle = '--')\n",
    "ax[1,0].set_ylabel(r' $u$  [m/s]')\n",
    "ax[1,0].grid()\n",
    "ax[1,0].set_xlabel(r'tempo $[s]$')\n",
    "\n",
    "ax[1,1].plot(tempo1, np.around((solution1[:,5]), decimals=4), color = 'r', linestyle = '-', label = r'SAS desligado')\n",
    "ax[1,1].plot(tempo2, np.around((solution2[:,5]), decimals=4), label = r'SAS Ligado', color = 'b', linestyle = '--')\n",
    "ax[1,1].set_ylabel(r' $w$ [m/s]')\n",
    "ax[1,1].set_xlabel(r'tempo $[s]$')\n",
    "ax[1,1].grid()\n",
    "\n",
    "ax[0, 1].plot(tempo1, np.around(np.degrees(solution1[:,10]), decimals=4), color = 'r', linestyle = '-', label = r'SAS desligado')\n",
    "ax[0, 1].plot(tempo2, np.around(np.degrees(solution2[:,10]), decimals=4), label = r'SAS Ligado', color = 'b', linestyle = '--')\n",
    "ax[0, 1].set_ylabel(r' $q~ [^o/s]$')\n",
    "ax[0, 1].legend(loc = 'upper right')\n",
    "ax[0, 1].grid()"
   ]
  },
  {
   "cell_type": "code",
   "execution_count": 29,
   "id": "2765970f",
   "metadata": {},
   "outputs": [],
   "source": [
    "# fig, ax = plt.subplots(nrows=3, ncols=1, sharex=True, figsize=(10,6))\n",
    "# ax[0].plot(tempo2, np.around(meuSistema2.windval[:,0], decimals=4), label = r'SAS Ligado', color = 'k', linestyle = '-')\n",
    "# ax[0].set_ylabel(r'vento em x')\n",
    "# ax[0].grid()\n",
    "\n",
    "# ax[1].plot(tempo2, np.around(meuSistema2.windval[:,1], decimals=4), label = r'SAS Ligado', color = 'k', linestyle = '-')\n",
    "# ax[1].set_ylabel(r'vento em y')\n",
    "# ax[1].grid()\n",
    "\n",
    "# ax[2].plot(tempo2, np.around(meuSistema2.windval[:,2], decimals=4), label = r'SAS Ligado', color = 'k', linestyle = '-')\n",
    "# ax[2].set_ylabel(r'vento em z')\n",
    "# ax[2].set_xlabel(r'tempo $[s]$')\n",
    "# ax[2].grid()\n",
    "# #plt.savefig('vento.pdf', dpi = 400, bbox_inches='tight')\n",
    "\n",
    "\n",
    "# plt.figure(figsize=(8,2))\n",
    "# plt.plot(solution1[:,0], np.around(meuSistema2.windval[:,2], decimals=4), label = r'SAS Ligado', color = 'k', linestyle = '-')\n",
    "# plt.ylabel(r'Vento em $z_o$ [m/s]')\n",
    "# plt.xlabel(r'Posição $x_o$ [m]')\n",
    "# plt.grid()\n",
    "# plt.savefig('vento.pdf', dpi = 400, bbox_inches='tight')"
   ]
  },
  {
   "cell_type": "markdown",
   "id": "9cafd239",
   "metadata": {},
   "source": [
    "### Plot ângulos"
   ]
  },
  {
   "cell_type": "code",
   "execution_count": 30,
   "id": "bf055ac1",
   "metadata": {},
   "outputs": [],
   "source": [
    "# import matplotlib.pyplot as plt\n",
    "# fig, ax = plt.subplots(nrows=3, ncols=1, sharex=True, figsize=(10,6))\n",
    "# ax[0].plot(tempo1, np.around(np.degrees(solution1[:,6]), decimals=4), color = 'r', linestyle = '-', label = r'SAS desligado')\n",
    "# ax[0].plot(tempo2, np.around(np.degrees(solution2[:,6]), decimals=4), label = r'SAS Ligado', color = 'b', linestyle = '--')\n",
    "# ax[0].set_ylabel(r'$\\phi~ [^o]$')\n",
    "# ax[0].legend()\n",
    "# ax[0].grid()\n",
    "\n",
    "# ax[1].plot(tempo1, np.around(np.degrees(solution1[:,7]), decimals=4), color = 'r', linestyle = '-', label = r'SAS desligado')\n",
    "# ax[1].plot(tempo2, np.around(np.degrees(solution2[:,7]), decimals=4), label = r'SAS Ligado', color = 'b', linestyle = '--')\n",
    "# ax[1].set_ylabel(r' $\\theta~ [^o]$')\n",
    "# ax[1].grid()\n",
    "\n",
    "# ax[2].plot(tempo1, np.around(np.degrees(solution1[:,8]), decimals=4), color = 'r', linestyle = '-', label = r'SAS desligado')\n",
    "# ax[2].plot(tempo2, np.around(np.degrees(solution2[:,8]), decimals=4), label = r'SAS Ligado', color = 'b', linestyle = '--')\n",
    "# ax[2].set_ylabel(r' $\\psi~ [^o]$')\n",
    "# ax[2].set_xlabel(r'tempo $[s]$')\n",
    "# ax[2].grid()\n",
    "# # #plt.savefig('angulo_cruize.pdf', dpi = 400, bbox_inches='tight')"
   ]
  },
  {
   "cell_type": "code",
   "execution_count": 31,
   "id": "ef5b3e58",
   "metadata": {},
   "outputs": [
    {
     "data": {
      "text/plain": [
       "Text(0.5, 0, 'tempo $[s]$')"
      ]
     },
     "execution_count": 31,
     "metadata": {},
     "output_type": "execute_result"
    },
    {
     "data": {
      "image/png": "[encoded data removed]",
      "text/plain": [
       "<Figure size 576x288 with 2 Axes>"
      ]
     },
     "metadata": {
      "needs_background": "light"
     },
     "output_type": "display_data"
    }
   ],
   "source": [
    "import matplotlib.pyplot as plt\n",
    "fig, ax = plt.subplots(nrows=2, ncols=1, sharex=True, figsize=(8,4))\n",
    "ax[0].plot(tempo1, np.around(np.degrees(solution1[:,7]), decimals=4), color = 'r', linestyle = '-', label = r'SAS desligado')\n",
    "ax[0].plot(tempo2, np.around(np.degrees(solution2[:,7]), decimals=4), label = r'SAS Ligado', color = 'b', linestyle = '--')\n",
    "ax[0].set_ylabel(r' $\\theta~ [^o]$')\n",
    "ax[0].grid()\n",
    "\n",
    "ax[1].plot(tempo1, np.around(np.degrees(solution1[:,10]), decimals=4), color = 'r', linestyle = '-', label = r'SAS desligado')\n",
    "ax[1].plot(tempo2, np.around(np.degrees(solution2[:,10]), decimals=4), label = r'SAS Ligado', color = 'b', linestyle = '--')\n",
    "ax[1].set_ylabel(r' $q~ [^o/s]$')\n",
    "ax[1].grid()\n",
    "ax[1].set_xlabel(r'tempo $[s]$')\n",
    "#plt.savefig('Variaveis_angulares.png', dpi = 400, bbox_inches='tight')"
   ]
  },
  {
   "cell_type": "markdown",
   "id": "694863b8",
   "metadata": {},
   "source": [
    "### Velocidade ângular"
   ]
  },
  {
   "cell_type": "code",
   "execution_count": 32,
   "id": "d7358de3",
   "metadata": {},
   "outputs": [],
   "source": [
    "# import matplotlib.pyplot as plt\n",
    "# fig, ax = plt.subplots(nrows=3, ncols=1, sharex=True, figsize=(10,6))\n",
    "# ax[0].plot(tempo1, np.around(np.degrees(solution1[:,9]), decimals=4), color = 'r', linestyle = '-', label = r'SAS desligado')\n",
    "# ax[0].plot(tempo2, np.around(np.degrees(solution2[:,9]), decimals=4), label = r'SAS Ligado', color = 'b', linestyle = '--')\n",
    "# ax[0].set_ylabel(r'$p~ [^o/s]$')\n",
    "# ax[0].legend(loc = 'upper right')\n",
    "# ax[0].grid()\n",
    "\n",
    "# ax[1].plot(tempo1, np.around(np.degrees(solution1[:,10]), decimals=4), color = 'r', linestyle = '-', label = r'SAS desligado')\n",
    "# ax[1].plot(tempo2, np.around(np.degrees(solution2[:,10]), decimals=4), label = r'SAS Ligado', color = 'b', linestyle = '--')\n",
    "# ax[1].set_ylabel(r' $q~ [^o/s]$')\n",
    "# ax[1].grid()\n",
    "\n",
    "# ax[2].plot(tempo1, np.around(np.degrees(solution1[:,11]), decimals=4), color = 'r', linestyle = '-', label = r'SAS desligado')\n",
    "# ax[2].plot(tempo2, np.around(np.degrees(solution2[:,11]), decimals=4), label = r'SAS Ligado', color = 'b', linestyle = '--')\n",
    "# ax[2].set_ylabel(r' $r~ [^o/s]$')\n",
    "# ax[2].set_xlabel(r'tempo $[s]$')\n",
    "# ax[2].grid()\n",
    "# #plt.savefig('angulo_speed_cruize.pdf', dpi = 400, bbox_inches='tight')"
   ]
  },
  {
   "cell_type": "markdown",
   "id": "3bd5e570",
   "metadata": {},
   "source": [
    "### Velocidades lineares"
   ]
  },
  {
   "cell_type": "code",
   "execution_count": 33,
   "id": "02c869a5",
   "metadata": {},
   "outputs": [],
   "source": [
    "# import matplotlib.pyplot as plt\n",
    "# fig, ax = plt.subplots(nrows=3, ncols=1, sharex=True, figsize=(10,6))\n",
    "# ax[0].plot(tempo1, np.around((solution1[:,3]), decimals=4), color = 'r', linestyle = '-', label = r'SAS desligado')\n",
    "# ax[0].plot(tempo2, np.around((solution2[:,3]), decimals=4), label = r'SAS Ligado', color = 'b', linestyle = '--')\n",
    "# ax[0].set_ylabel(r'$u$ [m/s]')\n",
    "# ax[0].legend()\n",
    "# ax[0].grid()\n",
    "\n",
    "# ax[1].plot(tempo1, np.around((solution1[:,4]), decimals=4), color = 'r', linestyle = '-', label = r'SAS desligado')\n",
    "# ax[1].plot(tempo2, np.around((solution2[:,4]), decimals=4), label = r'SAS Ligado', color = 'b', linestyle = '--')\n",
    "# ax[1].set_ylabel(r' $v$ [m/s]')\n",
    "# ax[1].grid()\n",
    "\n",
    "# ax[2].plot(tempo1, np.around((solution1[:,5]), decimals=4), color = 'r', linestyle = '-', label = r'SAS desligado')\n",
    "# ax[2].plot(tempo2, np.around((solution2[:,5]), decimals=4), label = r'SAS Ligado', color = 'b', linestyle = '--')\n",
    "# ax[2].set_ylabel(r' $w$ [m/s]')\n",
    "# ax[2].set_xlabel(r'tempo $[s]$')\n",
    "# ax[2].grid()\n",
    "# #plt.savefig('velocidade_cruize.pdf', dpi = 400, bbox_inches='tight')"
   ]
  },
  {
   "cell_type": "code",
   "execution_count": 34,
   "id": "72cd5d3a",
   "metadata": {},
   "outputs": [],
   "source": [
    "# import matplotlib.pyplot as plt\n",
    "# fig, ax = plt.subplots(nrows=2, ncols=1, sharex=True, figsize=(8,4))\n",
    "# ax[0].plot(tempo1, np.around((solution1[:,3]), decimals=4), color = 'r', linestyle = '-', label = r'SAS desligado')\n",
    "# ax[0].plot(tempo2, np.around((solution2[:,3]), decimals=4), label = r'SAS Ligado', color = 'b', linestyle = '--')\n",
    "# ax[0].set_ylabel(r'$u$ [m/s]')\n",
    "# ax[0].legend()\n",
    "# ax[0].grid()\n",
    "\n",
    "# ax[1].plot(tempo1, np.around((solution1[:,5]), decimals=4), color = 'r', linestyle = '-', label = r'SAS desligado')\n",
    "# ax[1].plot(tempo2, np.around((solution2[:,5]), decimals=4), label = r'SAS Ligado', color = 'b', linestyle = '--')\n",
    "# ax[1].set_ylabel(r' $w$ [m/s]')\n",
    "# ax[1].set_xlabel(r'tempo $[s]$')\n",
    "# ax[1].grid()\n",
    "# #plt.savefig('velocidades_com_SAS.pdf', dpi = 400, bbox_inches='tight')"
   ]
  },
  {
   "cell_type": "markdown",
   "id": "1ed61318",
   "metadata": {},
   "source": [
    "### Posição"
   ]
  },
  {
   "cell_type": "code",
   "execution_count": 35,
   "id": "ac207d3c",
   "metadata": {},
   "outputs": [],
   "source": [
    "# fig, ax = plt.subplots(nrows=2, ncols=1, sharex=True, figsize=(10,4))\n",
    "# ax[0].plot(np.around(solution1[:,0], decimals=4), np.around(solution1[:,1], decimals=4), color = 'r', linestyle = '-', label = r'SAS desligado')\n",
    "# ax[0].plot(np.around(solution2[:,0], decimals=4), np.around(solution2[:,1], decimals=4), label = r'SAS Ligado', color = 'b', linestyle = '--')\n",
    "# ax[0].set_ylabel(r'$y_o$ [m]')\n",
    "# ax[0].legend()\n",
    "# ax[0].grid()\n",
    "\n",
    "# ax[1].plot(np.around(solution1[:,0], decimals=4), np.around(-solution1[:,2], decimals=4), color = 'r', linestyle = '-', label = r'SAS desligado')\n",
    "# ax[1].plot(np.around(solution2[:,0], decimals=4), np.around(-solution2[:,2], decimals=4), label = r'SAS Ligado', color = 'b', linestyle = '--')\n",
    "# ax[1].set_ylabel(r'Altitude [m]')\n",
    "# ax[1].set_xlabel(r'$x_o$ [m]')\n",
    "# ax[1].grid()\n",
    "# #plt.savefig('Posicao_SAS.pdf', dpi = 400, bbox_inches='tight')"
   ]
  },
  {
   "cell_type": "markdown",
   "id": "9d756b0f",
   "metadata": {},
   "source": [
    "### Controles"
   ]
  },
  {
   "cell_type": "code",
   "execution_count": 36,
   "id": "4b6fcb4f",
   "metadata": {
    "scrolled": false
   },
   "outputs": [
    {
     "data": {
      "image/png": "[encoded data removed]",
      "text/plain": [
       "<Figure size 576x144 with 1 Axes>"
      ]
     },
     "metadata": {
      "needs_background": "light"
     },
     "output_type": "display_data"
    }
   ],
   "source": [
    "# # fig, ax = plt.subplots(nrows=5, ncols=1, sharex=True, figsize=(10,8))\n",
    "# # ax[0].plot(tempo1, np.around(np.degrees(controls1[0,:]), decimals=4), color = 'r', linestyle = '-', label = r'SAS desligado')\n",
    "# # ax[0].plot(tempo2, np.around(np.degrees(controls2[0,:]), decimals=4), label = r'SAS Ligado', color = 'b', linestyle = '--')\n",
    "# # ax[0].set_ylabel(r'$\\delta_e$ $[^o]$')\n",
    "# # ax[0].grid()\n",
    "\n",
    "# # ax[1].plot(tempo1, np.around(np.degrees(controls1[1,:]), decimals=4), color = 'r', linestyle = '-', label = r'SAS desligado')\n",
    "# # ax[1].plot(tempo2, np.around(np.degrees(controls2[1,:]), decimals=4), label = r'SAS Ligado', color = 'b', linestyle = '--')\n",
    "# # ax[1].set_ylabel(r'$\\delta_a$ $[^o]$')\n",
    "# # ax[1].grid()\n",
    "\n",
    "# # ax[2].plot(tempo1, np.around(np.degrees(controls1[2,:]), decimals=4), color = 'r', linestyle = '-', label = r'SAS desligado')\n",
    "# # ax[2].plot(tempo2, np.around(np.degrees(controls2[2,:]), decimals=4), label = r'SAS Ligado', color = 'b', linestyle = '--')\n",
    "# # ax[2].set_ylabel(r'$\\delta_r$ $[^o]$')\n",
    "# # ax[2].grid()\n",
    "\n",
    "# # ax[3].plot(tempo1, np.around((controls1[3,:])*100, decimals=4), color = 'r', linestyle = '-', label = r'SAS desligado')\n",
    "# # ax[3].plot(tempo2, np.around((controls2[3,:])*100, decimals=4), label = r'SAS Ligado', color = 'b', linestyle = '--')\n",
    "# # ax[0].legend(loc = 'upper right')\n",
    "# # ax[3].set_ylabel(r'$\\delta_{pe}$ $[\\%]$')\n",
    "# # ax[3].grid()\n",
    "\n",
    "# # ax[4].plot(tempo1, np.around((controls1[6,:])*100, decimals=4), color = 'r', linestyle = '-', label = r'SAS desligado')\n",
    "# # ax[4].plot(tempo2, np.around((controls2[6,:])*100, decimals=4), label = r'SAS Ligado', color = 'b', linestyle = '--')\n",
    "# # ax[4].set_ylabel(r'$\\delta_{pd}$ $[\\%]$')\n",
    "# # ax[4].set_xlabel(r'tempo $[s]$')\n",
    "# # ax[4].grid()\n",
    "# # #plt.savefig('controles_cruise.pdf', dpi = 400, bbox_inches='tight')\n",
    "\n",
    "\n",
    "plt.figure(figsize=(8,2))\n",
    "plt.plot(tempo1, np.around(np.degrees(solution1[:,12]), decimals=4), color = 'r', linestyle = '-', label = r'SAS desligado')\n",
    "plt.plot(tempo2, np.around(np.degrees(solution2[:,12]), decimals=4), label = r'SAS Ligado', color = 'b', linestyle = '--')\n",
    "plt.ylabel(r'$SS \\ ~ \\ \\delta_e$ $[^o]$')\n",
    "plt.xlabel(r'tempo $[s]$')\n",
    "plt.legend(loc = 'upper right')\n",
    "plt.grid()\n",
    "#plt.savefig('Profundor_SAS.png', dpi = 400, bbox_inches='tight')\n"
   ]
  },
  {
   "cell_type": "code",
   "execution_count": 37,
   "id": "bdf49b07",
   "metadata": {},
   "outputs": [],
   "source": [
    "# import matplotlib.pyplot as plt\n",
    "# fig, ax = plt.subplots(nrows=3, ncols=1, sharex=True, figsize=(10,6))\n",
    "# #ax[0].plot(tempo2, np.around(solution2[:,14], decimals=4), label = r'w com filtro', color = 'b', linestyle = '--')\n",
    "# ax[0].plot(tempo2, np.around((solution2[:,13]), decimals=4), label = r'w do barramento', color = 'b', linestyle = '--')\n",
    "# ax[0].plot(tempo2, np.around((solution2[:,5]), decimals=4), label = r'w real', color = 'r', linestyle = '-')\n",
    "# ax[0].set_ylabel(r'$P1$')\n",
    "# ax[0].legend('upper left')\n",
    "# ax[0].legend(loc = 'upper right')\n",
    "# ax[0].grid()\n",
    "\n",
    "# #ax[1].plot(tempo2, np.around(np.degrees(solution2[:,15]), decimals=4), color = 'b', linestyle = '--')\n",
    "# ax[1].set_ylabel(r' $P2$')\n",
    "# ax[1].grid()\n",
    "\n",
    "# #ax[2].plot(tempo2, np.around(np.degrees(solution2[:,16]), decimals=4), color = 'b', linestyle = '--')\n",
    "# ax[2].set_ylabel(r' $P3$')\n",
    "# ax[2].set_xlabel(r'tempo $[s]$')\n",
    "# ax[2].grid()\n",
    "# #plt.savefig('angulo_speed_cruize.pdf', dpi = 400, bbox_inches='tight')"
   ]
  }
 ],
 "metadata": {
  "kernelspec": {
   "display_name": "Python 3.10.6 64-bit",
   "language": "python",
   "name": "python3"
  },
  "language_info": {
   "codemirror_mode": {
    "name": "ipython",
    "version": 3
   },
   "file_extension": ".py",
   "mimetype": "text/x-python",
   "name": "python",
   "nbconvert_exporter": "python",
   "pygments_lexer": "ipython3",
   "version": "3.10.6"
  },
  "vscode": {
   "interpreter": {
    "hash": "e7370f93d1d0cde622a1f8e1c04877d8463912d04d973331ad4851f04de6915a"
   }
  }
 },
 "nbformat": 4,
 "nbformat_minor": 5
}
